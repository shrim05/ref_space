{
 "metadata": {
  "orig_nbformat": 2,
  "kernelspec": {
   "name": "myvenv",
   "display_name": "PythonHome_p36",
   "language": "python"
  }
 },
 "nbformat": 4,
 "nbformat_minor": 2,
 "cells": [
  {
   "cell_type": "code",
   "execution_count": null,
   "metadata": {},
   "outputs": [],
   "source": [
    "import re"
   ]
  },
  {
   "source": [
    "## 메타문자\n",
    "```\n",
    "$()*+.?[\\^{|\n",
    "```\n",
    "\n",
    "## 특수상황에서만 메타문자\n",
    "```\n",
    "], -, )\n",
    "```\n"
   ],
   "cell_type": "markdown",
   "metadata": {}
  },
  {
   "cell_type": "code",
   "execution_count": 3,
   "metadata": {},
   "outputs": [
    {
     "output_type": "stream",
     "name": "stdout",
     "text": [
      "<re.Match object; span=(0, 1), match='a'>\n<re.Match object; span=(0, 1), match='a'>\nNone\nNone\n"
     ]
    }
   ],
   "source": [
    "# re.match(pattern, string, flags): 처음부터 일치여부 확인. 일치하면 match obj, 없으면 None 반환\n",
    "matchObj = re.match('a', 'a')\n",
    "print(matchObj)\n",
    "\n",
    "print(re.match('a', 'aba'))\n",
    "print(re.match('a', 'bbb'))\n",
    "print(re.match('a', 'baa'))"
   ]
  },
  {
   "cell_type": "code",
   "execution_count": 4,
   "metadata": {},
   "outputs": [
    {
     "output_type": "stream",
     "name": "stdout",
     "text": [
      "<re.Match object; span=(0, 1), match='a'>\n<re.Match object; span=(0, 1), match='a'>\nNone\n<re.Match object; span=(1, 2), match='a'>\n"
     ]
    }
   ],
   "source": [
    "# re.search(pattern, string, flags) : 중간부터라도 일치여부 확인. 일치하면 match obj, 없으면 None 반환\n",
    "matchObj = re.search('a', 'a')\n",
    "print(matchObj)\n",
    "\n",
    "print(re.search('a', 'aba'))\n",
    "print(re.search('a', 'bbb'))\n",
    "print(re.search('a', 'baa'))"
   ]
  },
  {
   "cell_type": "code",
   "execution_count": 12,
   "metadata": {},
   "outputs": [
    {
     "output_type": "stream",
     "name": "stdout",
     "text": [
      "['a']\n['a', 'a']\n[]\n['a', 'a']\n['aaa']\n"
     ]
    }
   ],
   "source": [
    "# re.findall(pattern, string, flags) :  문자열 중 패턴과 일치되는 모든 부분 확인. \n",
    "matchObj = re.findall('a', 'a')\n",
    "print(matchObj)\n",
    "\n",
    "print(re.findall('a', 'aba'))\n",
    "print(re.findall('a', 'bbb'))\n",
    "print(re.findall('a', 'baa'))\n",
    "print(re.findall('aaa', 'aaaa'))"
   ]
  },
  {
   "cell_type": "code",
   "execution_count": 14,
   "metadata": {},
   "outputs": [
    {
     "output_type": "stream",
     "name": "stdout",
     "text": [
      "<callable_iterator object at 0x7f2347a57940>\n<re.Match object; span=(1, 2), match='a'>\n<re.Match object; span=(2, 3), match='a'>\n"
     ]
    }
   ],
   "source": [
    "# re.finditer(pattern, string, flags) : re.findall과 비슷하지만, 일치된 문자열의 리스트 대신 matchObj 리스트를 반환.\n",
    "matchObj_iter = re.finditer('a', 'baa')\n",
    "print(matchObj_iter)\n",
    "\n",
    "for matchObj in matchObj_iter:\n",
    "    print(matchObj)"
   ]
  },
  {
   "cell_type": "code",
   "execution_count": 15,
   "metadata": {},
   "outputs": [
    {
     "output_type": "stream",
     "name": "stdout",
     "text": [
      "<re.Match object; span=(0, 1), match='a'>\nNone\nNone\nNone\nNone\n"
     ]
    }
   ],
   "source": [
    "# re.fullmatch(pattern, string, flags) : re.fullmatch는 패턴과 문자열이 남는 부분 없이 완벽하게 일치하는지를 검사한다.\n",
    "\n",
    "matchObj = re.fullmatch('a', 'a')\n",
    "print(matchObj)\n",
    "\n",
    "print(re.fullmatch('a', 'aba'))\n",
    "print(re.fullmatch('a', 'bbb'))\n",
    "print(re.fullmatch('a', 'baa'))\n",
    "print(re.fullmatch('aaa', 'aaaa'))"
   ]
  },
  {
   "source": [
    "## match Object의 메서드들\n",
    "- group()\t일치된 문자열을 반환한다.\n",
    "- start()\t일치된 문자열의 시작 위치를 반환한다.\n",
    "- end()\t일치된 문자열의 끝 위치를 반환한다.\n",
    "- span()\t일치된 문자열의 (시작 위치, 끝 위치) 튜플을 반환한다."
   ],
   "cell_type": "markdown",
   "metadata": {}
  },
  {
   "cell_type": "code",
   "execution_count": 18,
   "metadata": {},
   "outputs": [
    {
     "output_type": "stream",
     "name": "stdout",
     "text": [
      "<re.Match object; span=(1, 6), match='match'>\n()\nmatch\n1\n6\n(1, 6)\n"
     ]
    }
   ],
   "source": [
    "matchObj = re.search('match', \"'matchObj' is a good name, but 'm' is convenient. match awesome\")\n",
    "print(matchObj)\n",
    "\n",
    "print(matchObj.group())\n",
    "print(matchObj.start())\n",
    "print(matchObj.end())\n",
    "print(matchObj.span())"
   ]
  },
  {
   "cell_type": "code",
   "execution_count": 37,
   "metadata": {},
   "outputs": [
    {
     "output_type": "stream",
     "name": "stdout",
     "text": [
      "['ryan.']\n"
     ]
    }
   ],
   "source": [
    "matchObj = re.findall('r..n[.]', 'ryan. ruin rain round. reign')\n",
    "print(matchObj)"
   ]
  },
  {
   "cell_type": "code",
   "execution_count": 50,
   "metadata": {},
   "outputs": [
    {
     "output_type": "stream",
     "name": "stdout",
     "text": [
      "['a', 'b', 'c', ' ', 'a', ' ', ' ', 'a', 'a']\n['abc', 'a  ']\n['abc', 'ad ', 'a  ', 'a\\na']\n['a', 'b', 'c', ' ', 'a', ' ', ' ', 'a', '\\n', 'a']\n"
     ]
    }
   ],
   "source": [
    "print(re.findall('.', 'abc a  a\\na'))\n",
    "print(re.findall('a..', 'abc a  a\\na'))\n",
    "print(re.findall('a..', 'abc ad  a  a\\na', re.S))\n",
    "print(re.findall('.', 'abc a  a\\na', re.DOTALL))"
   ]
  },
  {
   "cell_type": "code",
   "execution_count": 53,
   "metadata": {},
   "outputs": [
    {
     "output_type": "execute_result",
     "data": {
      "text/plain": [
       "[' ']"
      ]
     },
     "metadata": {},
     "execution_count": 53
    }
   ],
   "source": [
    "a = '\\\\ '\n",
    "re.findall(' ',a)"
   ]
  },
  {
   "cell_type": "code",
   "execution_count": 77,
   "metadata": {},
   "outputs": [
    {
     "output_type": "stream",
     "name": "stdout",
     "text": [
      "['', '']\n['', '']\n['', '', '', '']\n['', '']\n"
     ]
    }
   ],
   "source": [
    "print(re.findall(r'\\b', 'a'))\n",
    "print(re.findall(r'\\B', ' ab b'))\n",
    "\n",
    "print(re.findall(r'\\b', 'a aa'))\n",
    "print(re.findall(r'\\B', 'aaa'))"
   ]
  },
  {
   "cell_type": "code",
   "execution_count": 81,
   "metadata": {},
   "outputs": [
    {
     "output_type": "stream",
     "name": "stdout",
     "text": [
      "(<re.Match object; span=(1, 1), match=''>, <re.Match object; span=(2, 2), match=''>, <re.Match object; span=(5, 5), match=''>, <re.Match object; span=(6, 6), match=''>, <re.Match object; span=(8, 8), match=''>)\n(<re.Match object; span=(0, 0), match=''>, <re.Match object; span=(3, 3), match=''>, <re.Match object; span=(4, 4), match=''>, <re.Match object; span=(7, 7), match=''>)\n"
     ]
    }
   ],
   "source": [
    "print(tuple(re.finditer(r'\\B', 'aaa bbb ')))\n",
    "print(tuple(re.finditer(r'\\b', 'aaa bbb')))"
   ]
  },
  {
   "cell_type": "code",
   "execution_count": 82,
   "metadata": {},
   "outputs": [
    {
     "output_type": "stream",
     "name": "stdout",
     "text": [
      "<p> Lorem ipsum... is boring. </p>\n# ---------------------------------------------------------------- #\n<p> part 1 </p> part 2 </p>\n<p> part 3 </p> part 4 </p>\n# ---------------------------------------------------------------- #\n<p> part 1 </p>\n"
     ]
    }
   ],
   "source": [
    "# 1번 예시\n",
    "matchObj = re.search('<p>.*</p>', '<p> Lorem ipsum... is boring. </p>')\n",
    "print(matchObj.group())\n",
    "\n",
    "print('# ---------------------------------------------------------------- #')\n",
    "\n",
    "# 2번 예시\n",
    "matchObj = re.search('<p>.*</p>', '''\n",
    "<p> part 1 </p> part 2 </p>\n",
    "<p> part 3 </p> part 4 </p>\n",
    "''', re.DOTALL)\n",
    "print(matchObj.group())\n",
    "\n",
    "print('# ---------------------------------------------------------------- #')\n",
    "\n",
    "# 3번 예시\n",
    "matchObj = re.search('<p>.*?</p>', '''\n",
    "<p> part 1 </p> part 2 </p>\n",
    "<p> part 3 </p> part 4 </p>\n",
    "''', re.DOTALL)\n",
    "print(matchObj.group())"
   ]
  },
  {
   "cell_type": "code",
   "execution_count": 164,
   "metadata": {},
   "outputs": [
    {
     "output_type": "stream",
     "name": "stdout",
     "text": [
      "<re.Match object; span=(0, 6), match='3.72e3'>\n<re.Match object; span=(0, 6), match='3.72e3'>\n"
     ]
    }
   ],
   "source": [
    "#응용 문제\n",
    "#문제 1: 1~8자리 10진수에 일치하는 정규표현식을 작성하라.\n",
    "# re.search(r'\\b\\d{1,8}\\b','123456789')\n",
    "\n",
    "\n",
    "#문제 2: 4자리 또는 8자리 16진수에 일치하는 정규표현식을 작성하라. 16진수는 0~9, a~f를 사용한다. 예시는 abcd1992, 7fffffff, 2dfa9a00이다. 윈도우 오류에서 ‘0xC1900101’ 비슷한 에러를 많이 봤을 것이다.\n",
    "# re.search(r'\\b[0-9|a-f]{8}\\b|\\b[0-9|a-f]{4}\\b','3bcd')\n",
    "\n",
    "\n",
    "#문제 3: 1.2이나 3.72e3, 1.002e-12 같은 수를 부동소수점 수 또는 과학적 표기법으로 표기한 수라고 한다. 이와 같은 수에 일치하는 정규표현식을 작성하라.\n",
    "print(re.search(r'\\b\\d*\\.\\d{1,}e?\\-?\\d{1,}\\b','3.72e3'))\n",
    "print(re.search(r'\\b\\d*\\.\\d+(e-?\\d+)?','3.72e3'))\n"
   ]
  },
  {
   "cell_type": "code",
   "execution_count": 174,
   "metadata": {},
   "outputs": [
    {
     "output_type": "stream",
     "name": "stdout",
     "text": [
      "ryan\n"
     ]
    }
   ],
   "source": [
    "print(re.search('(?<=<p>)\\w+(?=</p>)', \n",
    "                'Kakao <p>ryan</p> keep a straight face.').group())"
   ]
  },
  {
   "source": [
    "#콤마로 구분되고\n",
    "#one, two, three와 일치되되\n",
    "#각 단어는 최소 한번씩은 등장해야 하며\n",
    "#각 단어가 몇 개가 있든지 일치되어야 한다.\n",
    "\n"
   ],
   "cell_type": "code",
   "metadata": {},
   "execution_count": null,
   "outputs": []
  },
  {
   "cell_type": "code",
   "execution_count": 208,
   "metadata": {},
   "outputs": [
    {
     "output_type": "execute_result",
     "data": {
      "text/plain": [
       "(None, <re.Match object; span=(0, 3), match='222'>)"
      ]
     },
     "metadata": {},
     "execution_count": 208
    }
   ],
   "source": [
    "#문제 1: 가장 간단한 십진 정수를 찾는 정규식을 작성하라.\n",
    "x = re.search(r'^\\d+$','10.1')\n",
    "x2 = re.search(r'\\b\\d+\\b','222')\n",
    "x,x2"
   ]
  },
  {
   "cell_type": "code",
   "execution_count": 211,
   "metadata": {},
   "outputs": [
    {
     "output_type": "execute_result",
     "data": {
      "text/plain": [
       "(<re.Match object; span=(0, 5), match='+ 101'>,\n",
       " <re.Match object; span=(0, 4), match='-222'>)"
      ]
     },
     "metadata": {},
     "execution_count": 211
    }
   ],
   "source": [
    "#문제 2: 가장 일반적인 형태의 십진 정수를 찾는 정규식을 작성하라. 맨 앞에 ‘+’ 혹은 ‘-‘ 기호가 붙어 있을 수 있으며, 기호와 숫자 사이에는 공백이 하나 있을 수 있다.\n",
    "rec = re.compile(r'^[\\+?\\-?]\\s?\\d+$')\n",
    "\n",
    "x = rec.search('+ 101')\n",
    "x2 = rec.search('-222')\n",
    "x,x2\n",
    "\n",
    "#r'(?:[+-] ?)?\\b\\d+\\b'"
   ]
  },
  {
   "cell_type": "code",
   "execution_count": 216,
   "metadata": {},
   "outputs": [
    {
     "output_type": "execute_result",
     "data": {
      "text/plain": [
       "(<re.Match object; span=(0, 5), match='color'>,\n",
       " <re.Match object; span=(0, 5), match='Color'>)"
      ]
     },
     "metadata": {},
     "execution_count": 216
    }
   ],
   "source": [
    "#문제 1: colour, Color, color 등 모든 버전의 color에 일치되는 정규식을 작성하라.\n",
    "rec = re.compile(r'\\b(colou?r)\\b',re.I)\n",
    "\n",
    "x = rec.search('color')\n",
    "x2 = rec.search('Color colour')\n",
    "x,x2"
   ]
  },
  {
   "cell_type": "code",
   "execution_count": null,
   "metadata": {},
   "outputs": [],
   "source": []
  },
  {
   "cell_type": "code",
   "execution_count": null,
   "metadata": {},
   "outputs": [],
   "source": []
  }
 ]
}