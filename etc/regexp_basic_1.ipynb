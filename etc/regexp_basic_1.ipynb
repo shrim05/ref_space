{
 "metadata": {
  "orig_nbformat": 2,
  "kernelspec": {
   "name": "myvenv",
   "display_name": "PythonHome_p36",
   "language": "python"
  }
 },
 "nbformat": 4,
 "nbformat_minor": 2,
 "cells": [
  {
   "cell_type": "code",
   "execution_count": null,
   "metadata": {},
   "outputs": [],
   "source": [
    "import re"
   ]
  },
  {
   "source": [
    "## 메타문자\n",
    "```\n",
    "$()*+.?[\\^{|\n",
    "```\n",
    "\n",
    "## 특수상황에서만 메타문자\n",
    "```\n",
    "], -, )\n",
    "```\n"
   ],
   "cell_type": "markdown",
   "metadata": {}
  },
  {
   "cell_type": "code",
   "execution_count": 3,
   "metadata": {},
   "outputs": [
    {
     "output_type": "stream",
     "name": "stdout",
     "text": [
      "<re.Match object; span=(0, 1), match='a'>\n<re.Match object; span=(0, 1), match='a'>\nNone\nNone\n"
     ]
    }
   ],
   "source": [
    "# re.match(pattern, string, flags): 처음부터 일치여부 확인 , 일치하면 match obj, 없으면 None 반환\n",
    "matchObj = re.match('a', 'a')\n",
    "print(matchObj)\n",
    "\n",
    "print(re.match('a', 'aba'))\n",
    "print(re.match('a', 'bbb'))\n",
    "print(re.match('a', 'baa'))"
   ]
  },
  {
   "cell_type": "code",
   "execution_count": 4,
   "metadata": {},
   "outputs": [
    {
     "output_type": "stream",
     "name": "stdout",
     "text": [
      "<re.Match object; span=(0, 1), match='a'>\n<re.Match object; span=(0, 1), match='a'>\nNone\n<re.Match object; span=(1, 2), match='a'>\n"
     ]
    }
   ],
   "source": [
    "# re.search(pattern, string, flags)\n",
    "matchObj = re.search('a', 'a')\n",
    "print(matchObj)\n",
    "\n",
    "print(re.search('a', 'aba'))\n",
    "print(re.search('a', 'bbb'))\n",
    "print(re.search('a', 'baa'))"
   ]
  },
  {
   "cell_type": "code",
   "execution_count": null,
   "metadata": {},
   "outputs": [],
   "source": []
  },
  {
   "cell_type": "code",
   "execution_count": null,
   "metadata": {},
   "outputs": [],
   "source": []
  }
 ]
}