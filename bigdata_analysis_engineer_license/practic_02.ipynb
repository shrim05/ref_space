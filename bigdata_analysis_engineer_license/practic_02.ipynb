{
 "metadata": {
  "language_info": {
   "codemirror_mode": {
    "name": "ipython",
    "version": 3
   },
   "file_extension": ".py",
   "mimetype": "text/x-python",
   "name": "python",
   "nbconvert_exporter": "python",
   "pygments_lexer": "ipython3",
   "version": "3.8.3"
  },
  "orig_nbformat": 2,
  "kernelspec": {
   "name": "python3",
   "display_name": "Python 3.8.3 64-bit ('base': conda)"
  },
  "interpreter": {
   "hash": "4be50a6b9120fb188cfe30276bb17ea3acf7f9e5bafb4627c4dc2c4ae0cb6475"
  }
 },
 "nbformat": 4,
 "nbformat_minor": 2,
 "cells": [
  {
   "cell_type": "code",
   "execution_count": null,
   "metadata": {},
   "outputs": [],
   "source": [
    "import pandas as pd\n",
    "import numpy as np\n",
    "import inspect\n",
    "import sklearn\n"
   ]
  },
  {
   "cell_type": "code",
   "execution_count": 77,
   "metadata": {},
   "outputs": [
    {
     "output_type": "stream",
     "name": "stdout",
     "text": [
      "Help on package sklearn:\n\nNAME\n    sklearn\n\nDESCRIPTION\n    Machine learning module for Python\n    ==================================\n    \n    sklearn is a Python module integrating classical machine\n    learning algorithms in the tightly-knit world of scientific Python\n    packages (numpy, scipy, matplotlib).\n    \n    It aims to provide simple and efficient solutions to learning problems\n    that are accessible to everybody and reusable in various contexts:\n    machine-learning as a versatile tool for science and engineering.\n    \n    See http://scikit-learn.org for complete documentation.\n\nPACKAGE CONTENTS\n    __check_build (package)\n    _build_utils (package)\n    _config\n    _distributor_init\n    _isotonic\n    _loss (package)\n    base\n    calibration\n    cluster (package)\n    compose (package)\n    conftest\n    covariance (package)\n    cross_decomposition (package)\n    datasets (package)\n    decomposition (package)\n    discriminant_analysis\n    dummy\n    ensemble (package)\n    exceptions\n    experimental (package)\n    externals (package)\n    feature_extraction (package)\n    feature_selection (package)\n    gaussian_process (package)\n    impute (package)\n    inspection (package)\n    isotonic\n    kernel_approximation\n    kernel_ridge\n    linear_model (package)\n    manifold (package)\n    metrics (package)\n    mixture (package)\n    model_selection (package)\n    multiclass\n    multioutput\n    naive_bayes\n    neighbors (package)\n    neural_network (package)\n    pipeline\n    preprocessing (package)\n    random_projection\n    semi_supervised (package)\n    setup\n    svm (package)\n    tests (package)\n    tree (package)\n    utils (package)\n\nFUNCTIONS\n    clone(estimator, *, safe=True)\n        Constructs a new estimator with the same parameters.\n        \n        Clone does a deep copy of the model in an estimator\n        without actually copying attached data. It yields a new estimator\n        with the same parameters that has not been fit on any data.\n        \n        Parameters\n        ----------\n        estimator : {list, tuple, set} of estimator objects or estimator object\n            The estimator or group of estimators to be cloned.\n        \n        safe : bool, default=True\n            If safe is false, clone will fall back to a deep copy on objects\n            that are not estimators.\n    \n    config_context(**new_config)\n        Context manager for global scikit-learn configuration\n        \n        Parameters\n        ----------\n        assume_finite : bool, optional\n            If True, validation for finiteness will be skipped,\n            saving time, but leading to potential crashes. If\n            False, validation for finiteness will be performed,\n            avoiding error.  Global default: False.\n        \n        working_memory : int, optional\n            If set, scikit-learn will attempt to limit the size of temporary arrays\n            to this number of MiB (per job when parallelised), often saving both\n            computation time and memory on expensive operations that can be\n            performed in chunks. Global default: 1024.\n        \n        print_changed_only : bool, optional\n            If True, only the parameters that were set to non-default\n            values will be printed when printing an estimator. For example,\n            ``print(SVC())`` while True will only print 'SVC()', but would print\n            'SVC(C=1.0, cache_size=200, ...)' with all the non-changed parameters\n            when False. Default is True.\n        \n            .. versionchanged:: 0.23\n               Default changed from False to True.\n        \n        display : {'text', 'diagram'}, optional\n            If 'diagram', estimators will be displayed as text in a jupyter lab\n            of notebook context. If 'text', estimators will be displayed as\n            text. Default is 'text'.\n        \n            .. versionadded:: 0.23\n        \n        Notes\n        -----\n        All settings, not just those presently modified, will be returned to\n        their previous values when the context manager is exited. This is not\n        thread-safe.\n        \n        Examples\n        --------\n        >>> import sklearn\n        >>> from sklearn.utils.validation import assert_all_finite\n        >>> with sklearn.config_context(assume_finite=True):\n        ...     assert_all_finite([float('nan')])\n        >>> with sklearn.config_context(assume_finite=True):\n        ...     with sklearn.config_context(assume_finite=False):\n        ...         assert_all_finite([float('nan')])\n        Traceback (most recent call last):\n        ...\n        ValueError: Input contains NaN, ...\n        \n        See Also\n        --------\n        set_config: Set global scikit-learn configuration\n        get_config: Retrieve current values of the global configuration\n    \n    get_config()\n        Retrieve current values for configuration set by :func:`set_config`\n        \n        Returns\n        -------\n        config : dict\n            Keys are parameter names that can be passed to :func:`set_config`.\n        \n        See Also\n        --------\n        config_context: Context manager for global scikit-learn configuration\n        set_config: Set global scikit-learn configuration\n    \n    set_config(assume_finite=None, working_memory=None, print_changed_only=None, display=None)\n        Set global scikit-learn configuration\n        \n        .. versionadded:: 0.19\n        \n        Parameters\n        ----------\n        assume_finite : bool, optional\n            If True, validation for finiteness will be skipped,\n            saving time, but leading to potential crashes. If\n            False, validation for finiteness will be performed,\n            avoiding error.  Global default: False.\n        \n            .. versionadded:: 0.19\n        \n        working_memory : int, optional\n            If set, scikit-learn will attempt to limit the size of temporary arrays\n            to this number of MiB (per job when parallelised), often saving both\n            computation time and memory on expensive operations that can be\n            performed in chunks. Global default: 1024.\n        \n            .. versionadded:: 0.20\n        \n        print_changed_only : bool, optional\n            If True, only the parameters that were set to non-default\n            values will be printed when printing an estimator. For example,\n            ``print(SVC())`` while True will only print 'SVC()' while the default\n            behaviour would be to print 'SVC(C=1.0, cache_size=200, ...)' with\n            all the non-changed parameters.\n        \n            .. versionadded:: 0.21\n        \n        display : {'text', 'diagram'}, optional\n            If 'diagram', estimators will be displayed as text in a jupyter lab\n            of notebook context. If 'text', estimators will be displayed as\n            text. Default is 'text'.\n        \n            .. versionadded:: 0.23\n        \n        See Also\n        --------\n        config_context: Context manager for global scikit-learn configuration\n        get_config: Retrieve current values of the global configuration\n    \n    show_versions()\n        Print useful debugging information\"\n        \n        .. versionadded:: 0.20\n\nDATA\n    __SKLEARN_SETUP__ = False\n    __all__ = ['calibration', 'cluster', 'covariance', 'cross_decompositio...\n\nVERSION\n    0.23.1\n\nFILE\n    /home/kwon/anaconda3/lib/python3.8/site-packages/sklearn/__init__.py\n\n\n"
     ]
    }
   ],
   "source": [
    "help(sklearn)\n",
    "# 나온 출력 내용을 package contents 부분만 복사해서 메모장에 붙여넣고\n",
    "# 어떤 메소드가 있는지 확인하려면\n",
    "from sklearn import *\n",
    "# inspect.getmembers(sklearn.package_name) 또는 dir(패키지명) 으로 확인가능"
   ]
  },
  {
   "cell_type": "code",
   "execution_count": null,
   "metadata": {},
   "outputs": [],
   "source": [
    "from sklearn import compose ,linear_model, metrics, model_selection, pipeline, preprocessing, svm \n"
   ]
  },
  {
   "cell_type": "code",
   "execution_count": 78,
   "metadata": {},
   "outputs": [
    {
     "output_type": "stream",
     "name": "stdout",
     "text": [
      "KNNImputer\nMissingIndicator\nSimpleImputer\n__all__\n__builtins__\n__cached__\n__doc__\n__file__\n__loader__\n__name__\n__package__\n__path__\n__spec__\n_base\n_knn\ntyping\n"
     ]
    }
   ],
   "source": [
    "# 그냥 print(dir(패키지명)) 해도 되는데, 보기힘드니 반복문으로 출력\n",
    "\n",
    "for x in dir(sklearn.impute ):\n",
    "    print(x)"
   ]
  },
  {
   "cell_type": "code",
   "execution_count": 323,
   "metadata": {},
   "outputs": [],
   "source": [
    "# 위에서 우선 필요해보이는거 전부 import 시키고 시작 (나머지는 메모장에 따로 복붙해놓고 봐요!)\n",
    "from sklearn.compose import ColumnTransformer\n",
    "from sklearn.impute import SimpleImputer\n",
    "from sklearn.linear_model import LinearRegression, LogisticRegression\n",
    "from sklearn.metrics import accuracy_score, confusion_matrix, f1_score, roc_auc_score\n",
    "from sklearn.model_selection import GridSearchCV, StratifiedShuffleSplit, cross_val_predict, cross_val_score, train_test_split \n",
    "from sklearn.pipeline import Pipeline\n",
    "from sklearn.preprocessing import OneHotEncoder, OrdinalEncoder,StandardScaler,MinMaxScaler, LabelEncoder\n",
    "from sklearn.svm import LinearSVC, SVC, OneClassSVM\n",
    "from sklearn.ensemble import RandomForestClassifier, VotingClassifier,RandomForestRegressor\n"
   ]
  },
  {
   "cell_type": "code",
   "execution_count": 355,
   "metadata": {},
   "outputs": [],
   "source": [
    "X_train_df = pd.read_csv('./datasets/exam_sample/x_train.csv')\n",
    "X_test_df = pd.read_csv('./datasets/exam_sample/x_test.csv')\n",
    "y_train_df = pd.read_csv('./datasets/exam_sample/y_train.csv')"
   ]
  },
  {
   "cell_type": "code",
   "execution_count": 288,
   "metadata": {},
   "outputs": [
    {
     "output_type": "stream",
     "name": "stdout",
     "text": [
      "<class 'pandas.core.frame.DataFrame'>\nRangeIndex: 3500 entries, 0 to 3499\nData columns (total 10 columns):\n #   Column   Non-Null Count  Dtype  \n---  ------   --------------  -----  \n 0   cust_id  3500 non-null   int64  \n 1   총구매액     3500 non-null   int64  \n 2   최대구매액    3500 non-null   int64  \n 3   환불금액     1205 non-null   float64\n 4   주구매상품    3500 non-null   object \n 5   주구매지점    3500 non-null   object \n 6   내점일수     3500 non-null   int64  \n 7   내점당구매건수  3500 non-null   float64\n 8   주말방문비율   3500 non-null   float64\n 9   구매주기     3500 non-null   int64  \ndtypes: float64(3), int64(5), object(2)\nmemory usage: 273.6+ KB\n           cust_id          총구매액         최대구매액          환불금액         내점일수  \\\ncount  3500.000000  3.500000e+03  3.500000e+03  1.205000e+03  3500.000000   \nmean   1749.500000  9.191925e+07  1.966424e+07  2.407822e+07    19.253714   \nstd    1010.507298  1.635065e+08  3.199235e+07  4.746453e+07    27.174942   \nmin       0.000000 -5.242152e+07 -2.992000e+06  5.600000e+03     1.000000   \n25%     874.750000  4.747050e+06  2.875000e+06  2.259000e+06     2.000000   \n50%    1749.500000  2.822270e+07  9.837000e+06  7.392000e+06     8.000000   \n75%    2624.250000  1.065079e+08  2.296250e+07  2.412000e+07    25.000000   \nmax    3499.000000  2.323180e+09  7.066290e+08  5.637530e+08   285.000000   \n\n           내점당구매건수       주말방문비율         구매주기  \ncount  3500.000000  3500.000000  3500.000000  \nmean      2.834963     0.307246    20.958286  \nstd       1.912368     0.289752    24.748682  \nmin       1.000000     0.000000     0.000000  \n25%       1.666667     0.027291     4.000000  \n50%       2.333333     0.256410    13.000000  \n75%       3.375000     0.448980    28.000000  \nmax      22.083333     1.000000   166.000000   None (3500, 10)\n"
     ]
    }
   ],
   "source": [
    "print(X_train_df.describe(), X_train_df.info(), X_train_df.shape)"
   ]
  },
  {
   "cell_type": "code",
   "execution_count": 365,
   "metadata": {},
   "outputs": [
    {
     "output_type": "execute_result",
     "data": {
      "text/plain": [
       "LabelEncoder()"
      ]
     },
     "metadata": {},
     "execution_count": 365
    }
   ],
   "source": [
    "product_list = X_train_df['주구매상품'].tolist()+X_test_df['주구매상품'].tolist()\n",
    "product_le = LabelEncoder()\n",
    "product_le.fit(product_list)\n",
    "place_list = X_train_df['주구매지점'].tolist()+X_test_df['주구매지점'].tolist()\n",
    "place_le = LabelEncoder()\n",
    "place_le.fit(place_list)"
   ]
  },
  {
   "cell_type": "code",
   "execution_count": 366,
   "metadata": {},
   "outputs": [],
   "source": [
    "X_train_product = product_le.transform(X_train_df['주구매상품'])\n",
    "X_test_product = product_le.transform(X_test_df['주구매상품'])\n",
    "X_train_place = place_le.transform(X_train_df['주구매지점'])\n",
    "X_test_place = place_le.transform(X_test_df['주구매지점'])\n"
   ]
  },
  {
   "cell_type": "code",
   "execution_count": 338,
   "metadata": {},
   "outputs": [],
   "source": [
    "proc_x_train_df = copy.deepcopy(X_train_df)\n",
    "proc_x_test_df = copy.deepcopy(X_test_df)\n",
    "proc_x_train_df['주구매상품'] = X_train_product\n",
    "proc_x_test_df['주구매상품'] = X_test_product\n",
    "proc_x_train_df['주구매지점'] = X_train_place\n",
    "proc_x_test_df['주구매지점'] = X_test_place"
   ]
  },
  {
   "cell_type": "code",
   "execution_count": 292,
   "metadata": {},
   "outputs": [],
   "source": [
    "import copy\n",
    "combined_df = copy.deepcopy(proc_x_train_df)\n",
    "combined_df['gender'] = y_train_df['gender']\n",
    "combined_df = combined_df.drop('cust_id',axis=1)"
   ]
  },
  {
   "cell_type": "code",
   "execution_count": 328,
   "metadata": {},
   "outputs": [
    {
     "output_type": "execute_result",
     "data": {
      "text/plain": [
       "       총구매액     최대구매액       환불금액  주구매상품  주구매지점  내점일수   내점당구매건수    주말방문비율  \\\n",
       "0  68282840  11264000  6860000.0      5      0    19  3.894737  0.527027   \n",
       "1   2136000   2136000   300000.0     21     19     2  1.500000  0.000000   \n",
       "2   3197000   1639000        NaN      6      1     2  2.000000  0.000000   \n",
       "3  16077620   4935000        NaN      5      2    18  2.444444  0.318182   \n",
       "4  29050000  24000000        NaN     15      8     2  1.500000  0.000000   \n",
       "\n",
       "   구매주기  gender  \n",
       "0    17       0  \n",
       "1     1       0  \n",
       "2     1       1  \n",
       "3    16       1  \n",
       "4    85       0  "
      ],
      "text/html": "<div>\n<style scoped>\n    .dataframe tbody tr th:only-of-type {\n        vertical-align: middle;\n    }\n\n    .dataframe tbody tr th {\n        vertical-align: top;\n    }\n\n    .dataframe thead th {\n        text-align: right;\n    }\n</style>\n<table border=\"1\" class=\"dataframe\">\n  <thead>\n    <tr style=\"text-align: right;\">\n      <th></th>\n      <th>총구매액</th>\n      <th>최대구매액</th>\n      <th>환불금액</th>\n      <th>주구매상품</th>\n      <th>주구매지점</th>\n      <th>내점일수</th>\n      <th>내점당구매건수</th>\n      <th>주말방문비율</th>\n      <th>구매주기</th>\n      <th>gender</th>\n    </tr>\n  </thead>\n  <tbody>\n    <tr>\n      <th>0</th>\n      <td>68282840</td>\n      <td>11264000</td>\n      <td>6860000.0</td>\n      <td>5</td>\n      <td>0</td>\n      <td>19</td>\n      <td>3.894737</td>\n      <td>0.527027</td>\n      <td>17</td>\n      <td>0</td>\n    </tr>\n    <tr>\n      <th>1</th>\n      <td>2136000</td>\n      <td>2136000</td>\n      <td>300000.0</td>\n      <td>21</td>\n      <td>19</td>\n      <td>2</td>\n      <td>1.500000</td>\n      <td>0.000000</td>\n      <td>1</td>\n      <td>0</td>\n    </tr>\n    <tr>\n      <th>2</th>\n      <td>3197000</td>\n      <td>1639000</td>\n      <td>NaN</td>\n      <td>6</td>\n      <td>1</td>\n      <td>2</td>\n      <td>2.000000</td>\n      <td>0.000000</td>\n      <td>1</td>\n      <td>1</td>\n    </tr>\n    <tr>\n      <th>3</th>\n      <td>16077620</td>\n      <td>4935000</td>\n      <td>NaN</td>\n      <td>5</td>\n      <td>2</td>\n      <td>18</td>\n      <td>2.444444</td>\n      <td>0.318182</td>\n      <td>16</td>\n      <td>1</td>\n    </tr>\n    <tr>\n      <th>4</th>\n      <td>29050000</td>\n      <td>24000000</td>\n      <td>NaN</td>\n      <td>15</td>\n      <td>8</td>\n      <td>2</td>\n      <td>1.500000</td>\n      <td>0.000000</td>\n      <td>85</td>\n      <td>0</td>\n    </tr>\n  </tbody>\n</table>\n</div>"
     },
     "metadata": {},
     "execution_count": 328
    }
   ],
   "source": [
    "combined_df.head()"
   ]
  },
  {
   "cell_type": "code",
   "execution_count": 329,
   "metadata": {},
   "outputs": [],
   "source": [
    "combined_df['내점당구매액수'] = combined_df['총구매액']/combined_df['내점일수']"
   ]
  },
  {
   "cell_type": "code",
   "execution_count": 332,
   "metadata": {},
   "outputs": [
    {
     "output_type": "execute_result",
     "data": {
      "text/plain": [
       "gender     1.000000\n",
       "주말방문비율     0.073598\n",
       "구매주기       0.041450\n",
       "주구매지점      0.015876\n",
       "내점당구매액수   -0.030117\n",
       "주구매상품     -0.038668\n",
       "내점당구매건수   -0.043917\n",
       "환불금액      -0.078025\n",
       "최대구매액     -0.114323\n",
       "총구매액      -0.150141\n",
       "내점일수      -0.155000\n",
       "Name: gender, dtype: float64"
      ]
     },
     "metadata": {},
     "execution_count": 332
    }
   ],
   "source": [
    "combined_df.corr()['gender'].sort_values(ascending=False)"
   ]
  },
  {
   "cell_type": "code",
   "execution_count": null,
   "metadata": {},
   "outputs": [],
   "source": []
  },
  {
   "cell_type": "code",
   "execution_count": 330,
   "metadata": {},
   "outputs": [],
   "source": [
    "split = StratifiedShuffleSplit(n_splits=1, test_size=0.2, random_state=42)\n",
    "for train_index, test_index in split.split(combined_df,combined_df['gender']):\n",
    "    strat_train_set = combined_df.loc[train_index]\n",
    "    strat_test_set = combined_df.loc[test_index]"
   ]
  },
  {
   "cell_type": "code",
   "execution_count": 294,
   "metadata": {},
   "outputs": [],
   "source": [
    "target_x_train = copy.deepcopy(strat_train_set).drop('gender',axis=1)\n",
    "target_y_train  = strat_train_set['gender']\n",
    "target_x_test = copy.deepcopy(strat_test_set).drop('gender',axis=1)\n",
    "target_y_test = strat_test_set['gender']"
   ]
  },
  {
   "cell_type": "code",
   "execution_count": 295,
   "metadata": {},
   "outputs": [
    {
     "output_type": "stream",
     "name": "stdout",
     "text": [
      "Index(['총구매액', '최대구매액', '환불금액', '주구매상품', '주구매지점', '내점일수', '내점당구매건수', '주말방문비율',\n       '구매주기', 'gender'],\n      dtype='object')\n"
     ]
    }
   ],
   "source": [
    "print(strat_train_set.columns)"
   ]
  },
  {
   "cell_type": "code",
   "execution_count": 296,
   "metadata": {},
   "outputs": [],
   "source": [
    "original_col = ['총구매액', '최대구매액', '환불금액', '주구매상품', '주구매지점', '내점일수', '내점당구매건수', '주말방문비율',       '구매주기', 'gender']\n",
    "metric_col = ['총구매액', '최대구매액', '환불금액', '내점일수', '내점당구매건수', '주말방문비율', '구매주기']"
   ]
  },
  {
   "cell_type": "code",
   "execution_count": null,
   "metadata": {},
   "outputs": [],
   "source": []
  },
  {
   "cell_type": "code",
   "execution_count": 297,
   "metadata": {},
   "outputs": [],
   "source": [
    "metric_pipeline = Pipeline(\n",
    "    [\n",
    "        ('fillna', SimpleImputer(strategy='constant', fill_value=0)),\n",
    "     \n",
    "    ]\n",
    ")"
   ]
  },
  {
   "cell_type": "code",
   "execution_count": 298,
   "metadata": {},
   "outputs": [],
   "source": [
    "full_pipeline = ColumnTransformer(\n",
    "    [\n",
    "        ('metric', metric_pipeline, metric_col),\n",
    "    ]\n",
    ")\n",
    "\n",
    "prepared_x_train_df = full_pipeline.fit_transform(target_x_train)\n",
    "prepared_x_test_df  = full_pipeline.fit_transform(target_x_test)"
   ]
  },
  {
   "cell_type": "code",
   "execution_count": 356,
   "metadata": {},
   "outputs": [],
   "source": [
    "train_backup= copy.deepcopy(prepared_x_train_df)\n",
    "test_backup = copy.deepcopy(prepared_x_test_df)"
   ]
  },
  {
   "cell_type": "code",
   "execution_count": null,
   "metadata": {},
   "outputs": [],
   "source": [
    "original_col = ['총구매액', '최대구매액', '환불금액', '주구매상품', '주구매지점', '내점일수', '내점당구매건수', '주말방문비율',       '구매주기', 'gender']"
   ]
  },
  {
   "cell_type": "code",
   "execution_count": 364,
   "metadata": {},
   "outputs": [
    {
     "output_type": "execute_result",
     "data": {
      "text/plain": [
       "(2800, 7)"
      ]
     },
     "metadata": {},
     "execution_count": 364
    }
   ],
   "source": [
    "train_backup.[:,[]]"
   ]
  },
  {
   "cell_type": "code",
   "execution_count": 358,
   "metadata": {},
   "outputs": [
    {
     "output_type": "stream",
     "name": "stderr",
     "text": [
      "<ipython-input-358-0154e902e743>:1: FutureWarning: Using a non-tuple sequence for multidimensional indexing is deprecated; use `arr[tuple(seq)]` instead of `arr[seq]`. In the future this will be interpreted as an array index, `arr[np.array(seq)]`, which will result either in an error or a different result.\n  prepared_x_train_df = copy.deepcopy(train_backup[['내점일수']])\n"
     ]
    },
    {
     "output_type": "error",
     "ename": "IndexError",
     "evalue": "only integers, slices (`:`), ellipsis (`...`), numpy.newaxis (`None`) and integer or boolean arrays are valid indices",
     "traceback": [
      "\u001b[0;31m---------------------------------------------------------------------------\u001b[0m",
      "\u001b[0;31mIndexError\u001b[0m                                Traceback (most recent call last)",
      "\u001b[0;32m<ipython-input-358-0154e902e743>\u001b[0m in \u001b[0;36m<module>\u001b[0;34m\u001b[0m\n\u001b[0;32m----> 1\u001b[0;31m \u001b[0mprepared_x_train_df\u001b[0m \u001b[0;34m=\u001b[0m \u001b[0mcopy\u001b[0m\u001b[0;34m.\u001b[0m\u001b[0mdeepcopy\u001b[0m\u001b[0;34m(\u001b[0m\u001b[0mtrain_backup\u001b[0m\u001b[0;34m[\u001b[0m\u001b[0;34m[\u001b[0m\u001b[0;34m'내점일수'\u001b[0m\u001b[0;34m]\u001b[0m\u001b[0;34m]\u001b[0m\u001b[0;34m)\u001b[0m\u001b[0;34m\u001b[0m\u001b[0;34m\u001b[0m\u001b[0m\n\u001b[0m\u001b[1;32m      2\u001b[0m \u001b[0mprepared_x_test_df\u001b[0m \u001b[0;34m=\u001b[0m \u001b[0mcopy\u001b[0m\u001b[0;34m.\u001b[0m\u001b[0mdeepcopy\u001b[0m\u001b[0;34m(\u001b[0m\u001b[0mtest_backup\u001b[0m\u001b[0;34m[\u001b[0m\u001b[0;34m[\u001b[0m\u001b[0;34m'내점일수'\u001b[0m\u001b[0;34m]\u001b[0m\u001b[0;34m]\u001b[0m\u001b[0;34m)\u001b[0m\u001b[0;34m\u001b[0m\u001b[0;34m\u001b[0m\u001b[0m\n",
      "\u001b[0;31mIndexError\u001b[0m: only integers, slices (`:`), ellipsis (`...`), numpy.newaxis (`None`) and integer or boolean arrays are valid indices"
     ]
    }
   ],
   "source": [
    "prepared_x_train_df = copy.deepcopy(train_backup[['내점일수']])\n",
    "prepared_x_test_df = copy.deepcopy(test_backup[['내점일수']])"
   ]
  },
  {
   "cell_type": "code",
   "execution_count": 299,
   "metadata": {},
   "outputs": [
    {
     "output_type": "execute_result",
     "data": {
      "text/plain": [
       "array([[0.55719365, 0.44280635, 0.19      , 0.81      , 0.55799429,\n",
       "        0.44200571],\n",
       "       [0.51211047, 0.48788953, 0.18      , 0.82      , 0.60082389,\n",
       "        0.39917611],\n",
       "       [0.54952982, 0.45047018, 0.35      , 0.65      , 0.64271049,\n",
       "        0.35728951],\n",
       "       ...,\n",
       "       [0.52622633, 0.47377367, 0.05      , 0.95      , 0.56111616,\n",
       "        0.43888384],\n",
       "       [0.7927503 , 0.2072497 , 0.9       , 0.1       , 0.6642614 ,\n",
       "        0.3357386 ],\n",
       "       [0.85783903, 0.14216097, 0.86      , 0.14      , 0.66050293,\n",
       "        0.33949707]])"
      ]
     },
     "metadata": {},
     "execution_count": 299
    }
   ],
   "source": [
    "log_clf = LogisticRegression()\n",
    "rnd_clf = RandomForestClassifier()\n",
    "svm_clf = SVC(probability=True)\n",
    "\n",
    "voting_clf = VotingClassifier(\n",
    "    estimators=[('lr',log_clf),('rnd',rnd_clf),('svm',svm_clf)],voting='soft'\n",
    ")\n",
    "voting_clf.fit_transform(prepared_x_train_df,target_y_train)\n"
   ]
  },
  {
   "cell_type": "code",
   "execution_count": 339,
   "metadata": {},
   "outputs": [
    {
     "output_type": "execute_result",
     "data": {
      "text/plain": [
       "DecisionTreeRegressor(max_depth=5, random_state=7)"
      ]
     },
     "metadata": {},
     "execution_count": 339
    }
   ],
   "source": [
    "from sklearn.tree import DecisionTreeClassifier\n",
    "from sklearn.tree import DecisionTreeRegressor\n",
    "from sklearn.ensemble import RandomForestRegressor\n",
    "\n",
    "seed = 7\n",
    "model = DecisionTreeRegressor(max_depth=5,random_state=seed)\n",
    "model.fit(prepared_x_train_df, target_y_train)\n",
    "\n",
    " \n"
   ]
  },
  {
   "cell_type": "code",
   "execution_count": 350,
   "metadata": {},
   "outputs": [
    {
     "output_type": "execute_result",
     "data": {
      "text/plain": [
       "RandomForestClassifier(max_leaf_nodes=16, n_estimators=500, n_jobs=-1)"
      ]
     },
     "metadata": {},
     "execution_count": 350
    }
   ],
   "source": [
    "from sklearn.ensemble import RandomForestClassifier\n",
    "\n",
    "rnd_clf = RandomForestClassifier(n_estimators=500, max_leaf_nodes=16,n_jobs=-1)\n",
    "rnd_clf.fit(prepared_x_train_df, target_y_train)"
   ]
  },
  {
   "cell_type": "code",
   "execution_count": 351,
   "metadata": {},
   "outputs": [],
   "source": [
    "pred_y = rnd_clf.predict(prepared_x_test_df)"
   ]
  },
  {
   "cell_type": "code",
   "execution_count": 340,
   "metadata": {},
   "outputs": [],
   "source": [
    "pred_y = model.predict(prepared_x_test_df)"
   ]
  },
  {
   "cell_type": "code",
   "execution_count": 300,
   "metadata": {},
   "outputs": [],
   "source": [
    "pred_y = voting_clf.predict(pre)"
   ]
  },
  {
   "cell_type": "code",
   "execution_count": 313,
   "metadata": {},
   "outputs": [],
   "source": [
    "log_clf.fit(prepared_x_train_df,target_y_train)\n",
    "pred_y = log_clf.predict(prepared_x_train_df)"
   ]
  },
  {
   "cell_type": "code",
   "execution_count": 306,
   "metadata": {},
   "outputs": [
    {
     "output_type": "execute_result",
     "data": {
      "text/plain": [
       "(2800,)"
      ]
     },
     "metadata": {},
     "execution_count": 306
    }
   ],
   "source": [
    "target_y_train.shape"
   ]
  },
  {
   "cell_type": "code",
   "execution_count": 347,
   "metadata": {},
   "outputs": [
    {
     "output_type": "execute_result",
     "data": {
      "text/plain": [
       "0.47962241216398754"
      ]
     },
     "metadata": {},
     "execution_count": 347
    }
   ],
   "source": [
    "from sklearn.metrics import mean_squared_error\n",
    "\n",
    "final_mse = mean_squared_error(target_y_test, pred_y)\n",
    "final_rmse = np.sqrt(final_mse)\n",
    "final_rmse"
   ]
  },
  {
   "cell_type": "code",
   "execution_count": 354,
   "metadata": {},
   "outputs": [
    {
     "output_type": "execute_result",
     "data": {
      "text/plain": [
       "0.608"
      ]
     },
     "metadata": {},
     "execution_count": 354
    }
   ],
   "source": [
    "roc_auc_score(pred_y, target_y_test)"
   ]
  },
  {
   "cell_type": "code",
   "execution_count": 320,
   "metadata": {},
   "outputs": [
    {
     "output_type": "execute_result",
     "data": {
      "text/plain": [
       "dict_keys(['C', 'class_weight', 'dual', 'fit_intercept', 'intercept_scaling', 'l1_ratio', 'max_iter', 'multi_class', 'n_jobs', 'penalty', 'random_state', 'solver', 'tol', 'verbose', 'warm_start'])"
      ]
     },
     "metadata": {},
     "execution_count": 320
    }
   ],
   "source": [
    "log_clf.get_params().keys()"
   ]
  },
  {
   "cell_type": "code",
   "execution_count": 325,
   "metadata": {
    "tags": [
     "outputPrepend"
    ]
   },
   "outputs": [
    {
     "output_type": "stream",
     "name": "stderr",
     "text": [
      " \"/home/kwon/anaconda3/lib/python3.8/site-packages/sklearn/tree/_classes.py\", line 279, in fit\n    raise ValueError(\"max_features must be in (0, n_features]\")\nValueError: max_features must be in (0, n_features]\n\n  warnings.warn(\"Estimator fit failed. The score on this train-test\"\n/home/kwon/anaconda3/lib/python3.8/site-packages/sklearn/model_selection/_validation.py:548: FitFailedWarning: Estimator fit failed. The score on this train-test partition for these parameters will be set to nan. Details: \nTraceback (most recent call last):\n  File \"/home/kwon/anaconda3/lib/python3.8/site-packages/sklearn/model_selection/_validation.py\", line 531, in _fit_and_score\n    estimator.fit(X_train, y_train, **fit_params)\n  File \"/home/kwon/anaconda3/lib/python3.8/site-packages/sklearn/ensemble/_forest.py\", line 386, in fit\n    trees = Parallel(n_jobs=self.n_jobs, verbose=self.verbose,\n  File \"/home/kwon/anaconda3/lib/python3.8/site-packages/joblib/parallel.py\", line 1029, in __call__\n    if self.dispatch_one_batch(iterator):\n  File \"/home/kwon/anaconda3/lib/python3.8/site-packages/joblib/parallel.py\", line 847, in dispatch_one_batch\n    self._dispatch(tasks)\n  File \"/home/kwon/anaconda3/lib/python3.8/site-packages/joblib/parallel.py\", line 765, in _dispatch\n    job = self._backend.apply_async(batch, callback=cb)\n  File \"/home/kwon/anaconda3/lib/python3.8/site-packages/joblib/_parallel_backends.py\", line 208, in apply_async\n    result = ImmediateResult(func)\n  File \"/home/kwon/anaconda3/lib/python3.8/site-packages/joblib/_parallel_backends.py\", line 572, in __init__\n    self.results = batch()\n  File \"/home/kwon/anaconda3/lib/python3.8/site-packages/joblib/parallel.py\", line 252, in __call__\n    return [func(*args, **kwargs)\n  File \"/home/kwon/anaconda3/lib/python3.8/site-packages/joblib/parallel.py\", line 252, in <listcomp>\n    return [func(*args, **kwargs)\n  File \"/home/kwon/anaconda3/lib/python3.8/site-packages/sklearn/ensemble/_forest.py\", line 168, in _parallel_build_trees\n    tree.fit(X, y, sample_weight=curr_sample_weight, check_input=False)\n  File \"/home/kwon/anaconda3/lib/python3.8/site-packages/sklearn/tree/_classes.py\", line 890, in fit\n    super().fit(\n  File \"/home/kwon/anaconda3/lib/python3.8/site-packages/sklearn/tree/_classes.py\", line 279, in fit\n    raise ValueError(\"max_features must be in (0, n_features]\")\nValueError: max_features must be in (0, n_features]\n\n  warnings.warn(\"Estimator fit failed. The score on this train-test\"\n/home/kwon/anaconda3/lib/python3.8/site-packages/sklearn/model_selection/_validation.py:548: FitFailedWarning: Estimator fit failed. The score on this train-test partition for these parameters will be set to nan. Details: \nTraceback (most recent call last):\n  File \"/home/kwon/anaconda3/lib/python3.8/site-packages/sklearn/model_selection/_validation.py\", line 531, in _fit_and_score\n    estimator.fit(X_train, y_train, **fit_params)\n  File \"/home/kwon/anaconda3/lib/python3.8/site-packages/sklearn/ensemble/_forest.py\", line 386, in fit\n    trees = Parallel(n_jobs=self.n_jobs, verbose=self.verbose,\n  File \"/home/kwon/anaconda3/lib/python3.8/site-packages/joblib/parallel.py\", line 1029, in __call__\n    if self.dispatch_one_batch(iterator):\n  File \"/home/kwon/anaconda3/lib/python3.8/site-packages/joblib/parallel.py\", line 847, in dispatch_one_batch\n    self._dispatch(tasks)\n  File \"/home/kwon/anaconda3/lib/python3.8/site-packages/joblib/parallel.py\", line 765, in _dispatch\n    job = self._backend.apply_async(batch, callback=cb)\n  File \"/home/kwon/anaconda3/lib/python3.8/site-packages/joblib/_parallel_backends.py\", line 208, in apply_async\n    result = ImmediateResult(func)\n  File \"/home/kwon/anaconda3/lib/python3.8/site-packages/joblib/_parallel_backends.py\", line 572, in __init__\n    self.results = batch()\n  File \"/home/kwon/anaconda3/lib/python3.8/site-packages/joblib/parallel.py\", line 252, in __call__\n    return [func(*args, **kwargs)\n  File \"/home/kwon/anaconda3/lib/python3.8/site-packages/joblib/parallel.py\", line 252, in <listcomp>\n    return [func(*args, **kwargs)\n  File \"/home/kwon/anaconda3/lib/python3.8/site-packages/sklearn/ensemble/_forest.py\", line 168, in _parallel_build_trees\n    tree.fit(X, y, sample_weight=curr_sample_weight, check_input=False)\n  File \"/home/kwon/anaconda3/lib/python3.8/site-packages/sklearn/tree/_classes.py\", line 890, in fit\n    super().fit(\n  File \"/home/kwon/anaconda3/lib/python3.8/site-packages/sklearn/tree/_classes.py\", line 279, in fit\n    raise ValueError(\"max_features must be in (0, n_features]\")\nValueError: max_features must be in (0, n_features]\n\n  warnings.warn(\"Estimator fit failed. The score on this train-test\"\n/home/kwon/anaconda3/lib/python3.8/site-packages/sklearn/model_selection/_validation.py:548: FitFailedWarning: Estimator fit failed. The score on this train-test partition for these parameters will be set to nan. Details: \nTraceback (most recent call last):\n  File \"/home/kwon/anaconda3/lib/python3.8/site-packages/sklearn/model_selection/_validation.py\", line 531, in _fit_and_score\n    estimator.fit(X_train, y_train, **fit_params)\n  File \"/home/kwon/anaconda3/lib/python3.8/site-packages/sklearn/ensemble/_forest.py\", line 386, in fit\n    trees = Parallel(n_jobs=self.n_jobs, verbose=self.verbose,\n  File \"/home/kwon/anaconda3/lib/python3.8/site-packages/joblib/parallel.py\", line 1029, in __call__\n    if self.dispatch_one_batch(iterator):\n  File \"/home/kwon/anaconda3/lib/python3.8/site-packages/joblib/parallel.py\", line 847, in dispatch_one_batch\n    self._dispatch(tasks)\n  File \"/home/kwon/anaconda3/lib/python3.8/site-packages/joblib/parallel.py\", line 765, in _dispatch\n    job = self._backend.apply_async(batch, callback=cb)\n  File \"/home/kwon/anaconda3/lib/python3.8/site-packages/joblib/_parallel_backends.py\", line 208, in apply_async\n    result = ImmediateResult(func)\n  File \"/home/kwon/anaconda3/lib/python3.8/site-packages/joblib/_parallel_backends.py\", line 572, in __init__\n    self.results = batch()\n  File \"/home/kwon/anaconda3/lib/python3.8/site-packages/joblib/parallel.py\", line 252, in __call__\n    return [func(*args, **kwargs)\n  File \"/home/kwon/anaconda3/lib/python3.8/site-packages/joblib/parallel.py\", line 252, in <listcomp>\n    return [func(*args, **kwargs)\n  File \"/home/kwon/anaconda3/lib/python3.8/site-packages/sklearn/ensemble/_forest.py\", line 168, in _parallel_build_trees\n    tree.fit(X, y, sample_weight=curr_sample_weight, check_input=False)\n  File \"/home/kwon/anaconda3/lib/python3.8/site-packages/sklearn/tree/_classes.py\", line 890, in fit\n    super().fit(\n  File \"/home/kwon/anaconda3/lib/python3.8/site-packages/sklearn/tree/_classes.py\", line 279, in fit\n    raise ValueError(\"max_features must be in (0, n_features]\")\nValueError: max_features must be in (0, n_features]\n\n  warnings.warn(\"Estimator fit failed. The score on this train-test\"\n/home/kwon/anaconda3/lib/python3.8/site-packages/sklearn/model_selection/_validation.py:548: FitFailedWarning: Estimator fit failed. The score on this train-test partition for these parameters will be set to nan. Details: \nTraceback (most recent call last):\n  File \"/home/kwon/anaconda3/lib/python3.8/site-packages/sklearn/model_selection/_validation.py\", line 531, in _fit_and_score\n    estimator.fit(X_train, y_train, **fit_params)\n  File \"/home/kwon/anaconda3/lib/python3.8/site-packages/sklearn/ensemble/_forest.py\", line 386, in fit\n    trees = Parallel(n_jobs=self.n_jobs, verbose=self.verbose,\n  File \"/home/kwon/anaconda3/lib/python3.8/site-packages/joblib/parallel.py\", line 1029, in __call__\n    if self.dispatch_one_batch(iterator):\n  File \"/home/kwon/anaconda3/lib/python3.8/site-packages/joblib/parallel.py\", line 847, in dispatch_one_batch\n    self._dispatch(tasks)\n  File \"/home/kwon/anaconda3/lib/python3.8/site-packages/joblib/parallel.py\", line 765, in _dispatch\n    job = self._backend.apply_async(batch, callback=cb)\n  File \"/home/kwon/anaconda3/lib/python3.8/site-packages/joblib/_parallel_backends.py\", line 208, in apply_async\n    result = ImmediateResult(func)\n  File \"/home/kwon/anaconda3/lib/python3.8/site-packages/joblib/_parallel_backends.py\", line 572, in __init__\n    self.results = batch()\n  File \"/home/kwon/anaconda3/lib/python3.8/site-packages/joblib/parallel.py\", line 252, in __call__\n    return [func(*args, **kwargs)\n  File \"/home/kwon/anaconda3/lib/python3.8/site-packages/joblib/parallel.py\", line 252, in <listcomp>\n    return [func(*args, **kwargs)\n  File \"/home/kwon/anaconda3/lib/python3.8/site-packages/sklearn/ensemble/_forest.py\", line 168, in _parallel_build_trees\n    tree.fit(X, y, sample_weight=curr_sample_weight, check_input=False)\n  File \"/home/kwon/anaconda3/lib/python3.8/site-packages/sklearn/tree/_classes.py\", line 890, in fit\n    super().fit(\n  File \"/home/kwon/anaconda3/lib/python3.8/site-packages/sklearn/tree/_classes.py\", line 279, in fit\n    raise ValueError(\"max_features must be in (0, n_features]\")\nValueError: max_features must be in (0, n_features]\n\n  warnings.warn(\"Estimator fit failed. The score on this train-test\"\n/home/kwon/anaconda3/lib/python3.8/site-packages/sklearn/model_selection/_validation.py:548: FitFailedWarning: Estimator fit failed. The score on this train-test partition for these parameters will be set to nan. Details: \nTraceback (most recent call last):\n  File \"/home/kwon/anaconda3/lib/python3.8/site-packages/sklearn/model_selection/_validation.py\", line 531, in _fit_and_score\n    estimator.fit(X_train, y_train, **fit_params)\n  File \"/home/kwon/anaconda3/lib/python3.8/site-packages/sklearn/ensemble/_forest.py\", line 386, in fit\n    trees = Parallel(n_jobs=self.n_jobs, verbose=self.verbose,\n  File \"/home/kwon/anaconda3/lib/python3.8/site-packages/joblib/parallel.py\", line 1029, in __call__\n    if self.dispatch_one_batch(iterator):\n  File \"/home/kwon/anaconda3/lib/python3.8/site-packages/joblib/parallel.py\", line 847, in dispatch_one_batch\n    self._dispatch(tasks)\n  File \"/home/kwon/anaconda3/lib/python3.8/site-packages/joblib/parallel.py\", line 765, in _dispatch\n    job = self._backend.apply_async(batch, callback=cb)\n  File \"/home/kwon/anaconda3/lib/python3.8/site-packages/joblib/_parallel_backends.py\", line 208, in apply_async\n    result = ImmediateResult(func)\n  File \"/home/kwon/anaconda3/lib/python3.8/site-packages/joblib/_parallel_backends.py\", line 572, in __init__\n    self.results = batch()\n  File \"/home/kwon/anaconda3/lib/python3.8/site-packages/joblib/parallel.py\", line 252, in __call__\n    return [func(*args, **kwargs)\n  File \"/home/kwon/anaconda3/lib/python3.8/site-packages/joblib/parallel.py\", line 252, in <listcomp>\n    return [func(*args, **kwargs)\n  File \"/home/kwon/anaconda3/lib/python3.8/site-packages/sklearn/ensemble/_forest.py\", line 168, in _parallel_build_trees\n    tree.fit(X, y, sample_weight=curr_sample_weight, check_input=False)\n  File \"/home/kwon/anaconda3/lib/python3.8/site-packages/sklearn/tree/_classes.py\", line 890, in fit\n    super().fit(\n  File \"/home/kwon/anaconda3/lib/python3.8/site-packages/sklearn/tree/_classes.py\", line 279, in fit\n    raise ValueError(\"max_features must be in (0, n_features]\")\nValueError: max_features must be in (0, n_features]\n\n  warnings.warn(\"Estimator fit failed. The score on this train-test\"\n/home/kwon/anaconda3/lib/python3.8/site-packages/sklearn/model_selection/_validation.py:548: FitFailedWarning: Estimator fit failed. The score on this train-test partition for these parameters will be set to nan. Details: \nTraceback (most recent call last):\n  File \"/home/kwon/anaconda3/lib/python3.8/site-packages/sklearn/model_selection/_validation.py\", line 531, in _fit_and_score\n    estimator.fit(X_train, y_train, **fit_params)\n  File \"/home/kwon/anaconda3/lib/python3.8/site-packages/sklearn/ensemble/_forest.py\", line 386, in fit\n    trees = Parallel(n_jobs=self.n_jobs, verbose=self.verbose,\n  File \"/home/kwon/anaconda3/lib/python3.8/site-packages/joblib/parallel.py\", line 1029, in __call__\n    if self.dispatch_one_batch(iterator):\n  File \"/home/kwon/anaconda3/lib/python3.8/site-packages/joblib/parallel.py\", line 847, in dispatch_one_batch\n    self._dispatch(tasks)\n  File \"/home/kwon/anaconda3/lib/python3.8/site-packages/joblib/parallel.py\", line 765, in _dispatch\n    job = self._backend.apply_async(batch, callback=cb)\n  File \"/home/kwon/anaconda3/lib/python3.8/site-packages/joblib/_parallel_backends.py\", line 208, in apply_async\n    result = ImmediateResult(func)\n  File \"/home/kwon/anaconda3/lib/python3.8/site-packages/joblib/_parallel_backends.py\", line 572, in __init__\n    self.results = batch()\n  File \"/home/kwon/anaconda3/lib/python3.8/site-packages/joblib/parallel.py\", line 252, in __call__\n    return [func(*args, **kwargs)\n  File \"/home/kwon/anaconda3/lib/python3.8/site-packages/joblib/parallel.py\", line 252, in <listcomp>\n    return [func(*args, **kwargs)\n  File \"/home/kwon/anaconda3/lib/python3.8/site-packages/sklearn/ensemble/_forest.py\", line 168, in _parallel_build_trees\n    tree.fit(X, y, sample_weight=curr_sample_weight, check_input=False)\n  File \"/home/kwon/anaconda3/lib/python3.8/site-packages/sklearn/tree/_classes.py\", line 890, in fit\n    super().fit(\n  File \"/home/kwon/anaconda3/lib/python3.8/site-packages/sklearn/tree/_classes.py\", line 279, in fit\n    raise ValueError(\"max_features must be in (0, n_features]\")\nValueError: max_features must be in (0, n_features]\n\n  warnings.warn(\"Estimator fit failed. The score on this train-test\"\n/home/kwon/anaconda3/lib/python3.8/site-packages/sklearn/model_selection/_validation.py:548: FitFailedWarning: Estimator fit failed. The score on this train-test partition for these parameters will be set to nan. Details: \nTraceback (most recent call last):\n  File \"/home/kwon/anaconda3/lib/python3.8/site-packages/sklearn/model_selection/_validation.py\", line 531, in _fit_and_score\n    estimator.fit(X_train, y_train, **fit_params)\n  File \"/home/kwon/anaconda3/lib/python3.8/site-packages/sklearn/ensemble/_forest.py\", line 386, in fit\n    trees = Parallel(n_jobs=self.n_jobs, verbose=self.verbose,\n  File \"/home/kwon/anaconda3/lib/python3.8/site-packages/joblib/parallel.py\", line 1029, in __call__\n    if self.dispatch_one_batch(iterator):\n  File \"/home/kwon/anaconda3/lib/python3.8/site-packages/joblib/parallel.py\", line 847, in dispatch_one_batch\n    self._dispatch(tasks)\n  File \"/home/kwon/anaconda3/lib/python3.8/site-packages/joblib/parallel.py\", line 765, in _dispatch\n    job = self._backend.apply_async(batch, callback=cb)\n  File \"/home/kwon/anaconda3/lib/python3.8/site-packages/joblib/_parallel_backends.py\", line 208, in apply_async\n    result = ImmediateResult(func)\n  File \"/home/kwon/anaconda3/lib/python3.8/site-packages/joblib/_parallel_backends.py\", line 572, in __init__\n    self.results = batch()\n  File \"/home/kwon/anaconda3/lib/python3.8/site-packages/joblib/parallel.py\", line 252, in __call__\n    return [func(*args, **kwargs)\n  File \"/home/kwon/anaconda3/lib/python3.8/site-packages/joblib/parallel.py\", line 252, in <listcomp>\n    return [func(*args, **kwargs)\n  File \"/home/kwon/anaconda3/lib/python3.8/site-packages/sklearn/ensemble/_forest.py\", line 168, in _parallel_build_trees\n    tree.fit(X, y, sample_weight=curr_sample_weight, check_input=False)\n  File \"/home/kwon/anaconda3/lib/python3.8/site-packages/sklearn/tree/_classes.py\", line 890, in fit\n    super().fit(\n  File \"/home/kwon/anaconda3/lib/python3.8/site-packages/sklearn/tree/_classes.py\", line 279, in fit\n    raise ValueError(\"max_features must be in (0, n_features]\")\nValueError: max_features must be in (0, n_features]\n\n  warnings.warn(\"Estimator fit failed. The score on this train-test\"\n/home/kwon/anaconda3/lib/python3.8/site-packages/sklearn/model_selection/_validation.py:548: FitFailedWarning: Estimator fit failed. The score on this train-test partition for these parameters will be set to nan. Details: \nTraceback (most recent call last):\n  File \"/home/kwon/anaconda3/lib/python3.8/site-packages/sklearn/model_selection/_validation.py\", line 531, in _fit_and_score\n    estimator.fit(X_train, y_train, **fit_params)\n  File \"/home/kwon/anaconda3/lib/python3.8/site-packages/sklearn/ensemble/_forest.py\", line 386, in fit\n    trees = Parallel(n_jobs=self.n_jobs, verbose=self.verbose,\n  File \"/home/kwon/anaconda3/lib/python3.8/site-packages/joblib/parallel.py\", line 1029, in __call__\n    if self.dispatch_one_batch(iterator):\n  File \"/home/kwon/anaconda3/lib/python3.8/site-packages/joblib/parallel.py\", line 847, in dispatch_one_batch\n    self._dispatch(tasks)\n  File \"/home/kwon/anaconda3/lib/python3.8/site-packages/joblib/parallel.py\", line 765, in _dispatch\n    job = self._backend.apply_async(batch, callback=cb)\n  File \"/home/kwon/anaconda3/lib/python3.8/site-packages/joblib/_parallel_backends.py\", line 208, in apply_async\n    result = ImmediateResult(func)\n  File \"/home/kwon/anaconda3/lib/python3.8/site-packages/joblib/_parallel_backends.py\", line 572, in __init__\n    self.results = batch()\n  File \"/home/kwon/anaconda3/lib/python3.8/site-packages/joblib/parallel.py\", line 252, in __call__\n    return [func(*args, **kwargs)\n  File \"/home/kwon/anaconda3/lib/python3.8/site-packages/joblib/parallel.py\", line 252, in <listcomp>\n    return [func(*args, **kwargs)\n  File \"/home/kwon/anaconda3/lib/python3.8/site-packages/sklearn/ensemble/_forest.py\", line 168, in _parallel_build_trees\n    tree.fit(X, y, sample_weight=curr_sample_weight, check_input=False)\n  File \"/home/kwon/anaconda3/lib/python3.8/site-packages/sklearn/tree/_classes.py\", line 890, in fit\n    super().fit(\n  File \"/home/kwon/anaconda3/lib/python3.8/site-packages/sklearn/tree/_classes.py\", line 279, in fit\n    raise ValueError(\"max_features must be in (0, n_features]\")\nValueError: max_features must be in (0, n_features]\n\n  warnings.warn(\"Estimator fit failed. The score on this train-test\"\n/home/kwon/anaconda3/lib/python3.8/site-packages/sklearn/model_selection/_validation.py:548: FitFailedWarning: Estimator fit failed. The score on this train-test partition for these parameters will be set to nan. Details: \nTraceback (most recent call last):\n  File \"/home/kwon/anaconda3/lib/python3.8/site-packages/sklearn/model_selection/_validation.py\", line 531, in _fit_and_score\n    estimator.fit(X_train, y_train, **fit_params)\n  File \"/home/kwon/anaconda3/lib/python3.8/site-packages/sklearn/ensemble/_forest.py\", line 386, in fit\n    trees = Parallel(n_jobs=self.n_jobs, verbose=self.verbose,\n  File \"/home/kwon/anaconda3/lib/python3.8/site-packages/joblib/parallel.py\", line 1029, in __call__\n    if self.dispatch_one_batch(iterator):\n  File \"/home/kwon/anaconda3/lib/python3.8/site-packages/joblib/parallel.py\", line 847, in dispatch_one_batch\n    self._dispatch(tasks)\n  File \"/home/kwon/anaconda3/lib/python3.8/site-packages/joblib/parallel.py\", line 765, in _dispatch\n    job = self._backend.apply_async(batch, callback=cb)\n  File \"/home/kwon/anaconda3/lib/python3.8/site-packages/joblib/_parallel_backends.py\", line 208, in apply_async\n    result = ImmediateResult(func)\n  File \"/home/kwon/anaconda3/lib/python3.8/site-packages/joblib/_parallel_backends.py\", line 572, in __init__\n    self.results = batch()\n  File \"/home/kwon/anaconda3/lib/python3.8/site-packages/joblib/parallel.py\", line 252, in __call__\n    return [func(*args, **kwargs)\n  File \"/home/kwon/anaconda3/lib/python3.8/site-packages/joblib/parallel.py\", line 252, in <listcomp>\n    return [func(*args, **kwargs)\n  File \"/home/kwon/anaconda3/lib/python3.8/site-packages/sklearn/ensemble/_forest.py\", line 168, in _parallel_build_trees\n    tree.fit(X, y, sample_weight=curr_sample_weight, check_input=False)\n  File \"/home/kwon/anaconda3/lib/python3.8/site-packages/sklearn/tree/_classes.py\", line 890, in fit\n    super().fit(\n  File \"/home/kwon/anaconda3/lib/python3.8/site-packages/sklearn/tree/_classes.py\", line 279, in fit\n    raise ValueError(\"max_features must be in (0, n_features]\")\nValueError: max_features must be in (0, n_features]\n\n  warnings.warn(\"Estimator fit failed. The score on this train-test\"\n"
     ]
    },
    {
     "output_type": "execute_result",
     "data": {
      "text/plain": [
       "GridSearchCV(cv=5, estimator=RandomForestClassifier(),\n",
       "             param_grid=[{'max_features': [2, 4, 6, 8],\n",
       "                          'n_estimators': [3, 10, 30]},\n",
       "                         {'bootstrap': [False], 'max_features': [2, 3, 4],\n",
       "                          'n_estimators': [3, 10]}],\n",
       "             return_train_score=True, scoring='neg_mean_squared_error')"
      ]
     },
     "metadata": {},
     "execution_count": 325
    }
   ],
   "source": [
    "from sklearn.model_selection import GridSearchCV\n",
    "param_grid = [\n",
    "    {'n_estimators': [3,10,30], 'max_features': [2,4,6,8]},\n",
    "    {'bootstrap': [False], 'n_estimators': [3,10], 'max_features': [2,3,4]},\n",
    "]\n",
    "forest_reg = RandomForestClassifier()\n",
    "grid_search = GridSearchCV(forest_reg, param_grid, cv=5, scoring='neg_mean_squared_error', return_train_score=True)\n",
    "grid_search.fit(prepared_x_train_df, target_y_train)"
   ]
  },
  {
   "cell_type": "code",
   "execution_count": 331,
   "metadata": {},
   "outputs": [
    {
     "output_type": "execute_result",
     "data": {
      "text/plain": [
       "gender     1.000000\n",
       "주말방문비율     0.073598\n",
       "구매주기       0.041450\n",
       "주구매지점      0.015876\n",
       "내점당구매액수   -0.030117\n",
       "주구매상품     -0.038668\n",
       "내점당구매건수   -0.043917\n",
       "환불금액      -0.078025\n",
       "최대구매액     -0.114323\n",
       "총구매액      -0.150141\n",
       "내점일수      -0.155000\n",
       "Name: gender, dtype: float64"
      ]
     },
     "metadata": {},
     "execution_count": 331
    }
   ],
   "source": []
  },
  {
   "cell_type": "code",
   "execution_count": null,
   "metadata": {},
   "outputs": [],
   "source": []
  },
  {
   "cell_type": "code",
   "execution_count": null,
   "metadata": {},
   "outputs": [],
   "source": []
  },
  {
   "cell_type": "code",
   "execution_count": null,
   "metadata": {},
   "outputs": [],
   "source": []
  },
  {
   "cell_type": "code",
   "execution_count": 317,
   "metadata": {},
   "outputs": [
    {
     "output_type": "stream",
     "name": "stdout",
     "text": [
      "Exhaustive search over specified parameter values for an estimator.\n\nImportant members are fit, predict.\n\nGridSearchCV implements a \"fit\" and a \"score\" method.\nIt also implements \"predict\", \"predict_proba\", \"decision_function\",\n\"transform\" and \"inverse_transform\" if they are implemented in the\nestimator used.\n\nThe parameters of the estimator used to apply these methods are optimized\nby cross-validated grid-search over a parameter grid.\n\nRead more in the :ref:`User Guide <grid_search>`.\n\nParameters\n----------\nestimator : estimator object.\n    This is assumed to implement the scikit-learn estimator interface.\n    Either estimator needs to provide a ``score`` function,\n    or ``scoring`` must be passed.\n\nparam_grid : dict or list of dictionaries\n    Dictionary with parameters names (`str`) as keys and lists of\n    parameter settings to try as values, or a list of such\n    dictionaries, in which case the grids spanned by each dictionary\n    in the list are explored. This enables searching over any sequence\n    of parameter settings.\n\nscoring : str, callable, list/tuple or dict, default=None\n    A single str (see :ref:`scoring_parameter`) or a callable\n    (see :ref:`scoring`) to evaluate the predictions on the test set.\n\n    For evaluating multiple metrics, either give a list of (unique) strings\n    or a dict with names as keys and callables as values.\n\n    NOTE that when using custom scorers, each scorer should return a single\n    value. Metric functions returning a list/array of values can be wrapped\n    into multiple scorers that return one value each.\n\n    See :ref:`multimetric_grid_search` for an example.\n\n    If None, the estimator's score method is used.\n\nn_jobs : int, default=None\n    Number of jobs to run in parallel.\n    ``None`` means 1 unless in a :obj:`joblib.parallel_backend` context.\n    ``-1`` means using all processors. See :term:`Glossary <n_jobs>`\n    for more details.\n\n    .. versionchanged:: v0.20\n       `n_jobs` default changed from 1 to None\n\npre_dispatch : int, or str, default=n_jobs\n    Controls the number of jobs that get dispatched during parallel\n    execution. Reducing this number can be useful to avoid an\n    explosion of memory consumption when more jobs get dispatched\n    than CPUs can process. This parameter can be:\n\n        - None, in which case all the jobs are immediately\n          created and spawned. Use this for lightweight and\n          fast-running jobs, to avoid delays due to on-demand\n          spawning of the jobs\n\n        - An int, giving the exact number of total jobs that are\n          spawned\n\n        - A str, giving an expression as a function of n_jobs,\n          as in '2*n_jobs'\n\niid : bool, default=False\n    If True, return the average score across folds, weighted by the number\n    of samples in each test set. In this case, the data is assumed to be\n    identically distributed across the folds, and the loss minimized is\n    the total loss per sample, and not the mean loss across the folds.\n\n    .. deprecated:: 0.22\n        Parameter ``iid`` is deprecated in 0.22 and will be removed in 0.24\n\ncv : int, cross-validation generator or an iterable, default=None\n    Determines the cross-validation splitting strategy.\n    Possible inputs for cv are:\n\n    - None, to use the default 5-fold cross validation,\n    - integer, to specify the number of folds in a `(Stratified)KFold`,\n    - :term:`CV splitter`,\n    - An iterable yielding (train, test) splits as arrays of indices.\n\n    For integer/None inputs, if the estimator is a classifier and ``y`` is\n    either binary or multiclass, :class:`StratifiedKFold` is used. In all\n    other cases, :class:`KFold` is used.\n\n    Refer :ref:`User Guide <cross_validation>` for the various\n    cross-validation strategies that can be used here.\n\n    .. versionchanged:: 0.22\n        ``cv`` default value if None changed from 3-fold to 5-fold.\n\nrefit : bool, str, or callable, default=True\n    Refit an estimator using the best found parameters on the whole\n    dataset.\n\n    For multiple metric evaluation, this needs to be a `str` denoting the\n    scorer that would be used to find the best parameters for refitting\n    the estimator at the end.\n\n    Where there are considerations other than maximum score in\n    choosing a best estimator, ``refit`` can be set to a function which\n    returns the selected ``best_index_`` given ``cv_results_``. In that\n    case, the ``best_estimator_`` and ``best_params_`` will be set\n    according to the returned ``best_index_`` while the ``best_score_``\n    attribute will not be available.\n\n    The refitted estimator is made available at the ``best_estimator_``\n    attribute and permits using ``predict`` directly on this\n    ``GridSearchCV`` instance.\n\n    Also for multiple metric evaluation, the attributes ``best_index_``,\n    ``best_score_`` and ``best_params_`` will only be available if\n    ``refit`` is set and all of them will be determined w.r.t this specific\n    scorer.\n\n    See ``scoring`` parameter to know more about multiple metric\n    evaluation.\n\n    .. versionchanged:: 0.20\n        Support for callable added.\n\nverbose : integer\n    Controls the verbosity: the higher, the more messages.\n\nerror_score : 'raise' or numeric, default=np.nan\n    Value to assign to the score if an error occurs in estimator fitting.\n    If set to 'raise', the error is raised. If a numeric value is given,\n    FitFailedWarning is raised. This parameter does not affect the refit\n    step, which will always raise the error.\n\nreturn_train_score : bool, default=False\n    If ``False``, the ``cv_results_`` attribute will not include training\n    scores.\n    Computing training scores is used to get insights on how different\n    parameter settings impact the overfitting/underfitting trade-off.\n    However computing the scores on the training set can be computationally\n    expensive and is not strictly required to select the parameters that\n    yield the best generalization performance.\n\n    .. versionadded:: 0.19\n\n    .. versionchanged:: 0.21\n        Default value was changed from ``True`` to ``False``\n\n\nExamples\n--------\n>>> from sklearn import svm, datasets\n>>> from sklearn.model_selection import GridSearchCV\n>>> iris = datasets.load_iris()\n>>> parameters = {'kernel':('linear', 'rbf'), 'C':[1, 10]}\n>>> svc = svm.SVC()\n>>> clf = GridSearchCV(svc, parameters)\n>>> clf.fit(iris.data, iris.target)\nGridSearchCV(estimator=SVC(),\n             param_grid={'C': [1, 10], 'kernel': ('linear', 'rbf')})\n>>> sorted(clf.cv_results_.keys())\n['mean_fit_time', 'mean_score_time', 'mean_test_score',...\n 'param_C', 'param_kernel', 'params',...\n 'rank_test_score', 'split0_test_score',...\n 'split2_test_score', ...\n 'std_fit_time', 'std_score_time', 'std_test_score']\n\nAttributes\n----------\ncv_results_ : dict of numpy (masked) ndarrays\n    A dict with keys as column headers and values as columns, that can be\n    imported into a pandas ``DataFrame``.\n\n    For instance the below given table\n\n    +------------+-----------+------------+-----------------+---+---------+\n    |param_kernel|param_gamma|param_degree|split0_test_score|...|rank_t...|\n    +============+===========+============+=================+===+=========+\n    |  'poly'    |     --    |      2     |       0.80      |...|    2    |\n    +------------+-----------+------------+-----------------+---+---------+\n    |  'poly'    |     --    |      3     |       0.70      |...|    4    |\n    +------------+-----------+------------+-----------------+---+---------+\n    |  'rbf'     |     0.1   |     --     |       0.80      |...|    3    |\n    +------------+-----------+------------+-----------------+---+---------+\n    |  'rbf'     |     0.2   |     --     |       0.93      |...|    1    |\n    +------------+-----------+------------+-----------------+---+---------+\n\n    will be represented by a ``cv_results_`` dict of::\n\n        {\n        'param_kernel': masked_array(data = ['poly', 'poly', 'rbf', 'rbf'],\n                                     mask = [False False False False]...)\n        'param_gamma': masked_array(data = [-- -- 0.1 0.2],\n                                    mask = [ True  True False False]...),\n        'param_degree': masked_array(data = [2.0 3.0 -- --],\n                                     mask = [False False  True  True]...),\n        'split0_test_score'  : [0.80, 0.70, 0.80, 0.93],\n        'split1_test_score'  : [0.82, 0.50, 0.70, 0.78],\n        'mean_test_score'    : [0.81, 0.60, 0.75, 0.85],\n        'std_test_score'     : [0.01, 0.10, 0.05, 0.08],\n        'rank_test_score'    : [2, 4, 3, 1],\n        'split0_train_score' : [0.80, 0.92, 0.70, 0.93],\n        'split1_train_score' : [0.82, 0.55, 0.70, 0.87],\n        'mean_train_score'   : [0.81, 0.74, 0.70, 0.90],\n        'std_train_score'    : [0.01, 0.19, 0.00, 0.03],\n        'mean_fit_time'      : [0.73, 0.63, 0.43, 0.49],\n        'std_fit_time'       : [0.01, 0.02, 0.01, 0.01],\n        'mean_score_time'    : [0.01, 0.06, 0.04, 0.04],\n        'std_score_time'     : [0.00, 0.00, 0.00, 0.01],\n        'params'             : [{'kernel': 'poly', 'degree': 2}, ...],\n        }\n\n    NOTE\n\n    The key ``'params'`` is used to store a list of parameter\n    settings dicts for all the parameter candidates.\n\n    The ``mean_fit_time``, ``std_fit_time``, ``mean_score_time`` and\n    ``std_score_time`` are all in seconds.\n\n    For multi-metric evaluation, the scores for all the scorers are\n    available in the ``cv_results_`` dict at the keys ending with that\n    scorer's name (``'_<scorer_name>'``) instead of ``'_score'`` shown\n    above. ('split0_test_precision', 'mean_train_precision' etc.)\n\nbest_estimator_ : estimator\n    Estimator that was chosen by the search, i.e. estimator\n    which gave highest score (or smallest loss if specified)\n    on the left out data. Not available if ``refit=False``.\n\n    See ``refit`` parameter for more information on allowed values.\n\nbest_score_ : float\n    Mean cross-validated score of the best_estimator\n\n    For multi-metric evaluation, this is present only if ``refit`` is\n    specified.\n\n    This attribute is not available if ``refit`` is a function.\n\nbest_params_ : dict\n    Parameter setting that gave the best results on the hold out data.\n\n    For multi-metric evaluation, this is present only if ``refit`` is\n    specified.\n\nbest_index_ : int\n    The index (of the ``cv_results_`` arrays) which corresponds to the best\n    candidate parameter setting.\n\n    The dict at ``search.cv_results_['params'][search.best_index_]`` gives\n    the parameter setting for the best model, that gives the highest\n    mean score (``search.best_score_``).\n\n    For multi-metric evaluation, this is present only if ``refit`` is\n    specified.\n\nscorer_ : function or a dict\n    Scorer function used on the held out data to choose the best\n    parameters for the model.\n\n    For multi-metric evaluation, this attribute holds the validated\n    ``scoring`` dict which maps the scorer key to the scorer callable.\n\nn_splits_ : int\n    The number of cross-validation splits (folds/iterations).\n\nrefit_time_ : float\n    Seconds used for refitting the best model on the whole dataset.\n\n    This is present only if ``refit`` is not False.\n\n    .. versionadded:: 0.20\n\nNotes\n-----\nThe parameters selected are those that maximize the score of the left out\ndata, unless an explicit score is passed in which case it is used instead.\n\nIf `n_jobs` was set to a value higher than one, the data is copied for each\npoint in the grid (and not `n_jobs` times). This is done for efficiency\nreasons if individual jobs take very little time, but may raise errors if\nthe dataset is large and not enough memory is available.  A workaround in\nthis case is to set `pre_dispatch`. Then, the memory is copied only\n`pre_dispatch` many times. A reasonable value for `pre_dispatch` is `2 *\nn_jobs`.\n\nSee Also\n---------\n:class:`ParameterGrid`:\n    generates all the combinations of a hyperparameter grid.\n\n:func:`sklearn.model_selection.train_test_split`:\n    utility function to split the data into a development set usable\n    for fitting a GridSearchCV instance and an evaluation set for\n    its final evaluation.\n\n:func:`sklearn.metrics.make_scorer`:\n    Make a scorer from a performance metric or loss function.\n"
     ]
    }
   ],
   "source": [
    "print(inspect.getdoc(GridSearchCV))"
   ]
  },
  {
   "cell_type": "code",
   "execution_count": null,
   "metadata": {},
   "outputs": [],
   "source": []
  },
  {
   "cell_type": "code",
   "execution_count": null,
   "metadata": {},
   "outputs": [],
   "source": []
  },
  {
   "cell_type": "code",
   "execution_count": null,
   "metadata": {},
   "outputs": [],
   "source": []
  },
  {
   "cell_type": "code",
   "execution_count": 106,
   "metadata": {},
   "outputs": [
    {
     "output_type": "execute_result",
     "data": {
      "text/plain": [
       "array([[6860000.,  300000.,       0., ...,       0.,       0., 5973000.]])"
      ]
     },
     "metadata": {},
     "execution_count": 106
    }
   ],
   "source": [
    "imputer.fit_transform([X_train_df['환불금액'].values])"
   ]
  },
  {
   "cell_type": "code",
   "execution_count": 103,
   "metadata": {},
   "outputs": [
    {
     "output_type": "execute_result",
     "data": {
      "text/plain": [
       "array([6860000.,  300000.,      nan, ...,      nan,      nan, 5973000.])"
      ]
     },
     "metadata": {},
     "execution_count": 103
    }
   ],
   "source": [
    "X_train_df['환불금액'].values"
   ]
  },
  {
   "cell_type": "code",
   "execution_count": 98,
   "metadata": {},
   "outputs": [
    {
     "output_type": "error",
     "ename": "ValueError",
     "evalue": "Data must be 1-dimensional",
     "traceback": [
      "\u001b[0;31m---------------------------------------------------------------------------\u001b[0m",
      "\u001b[0;31mValueError\u001b[0m                                Traceback (most recent call last)",
      "\u001b[0;32m<ipython-input-98-41d50862c1d4>\u001b[0m in \u001b[0;36m<module>\u001b[0;34m\u001b[0m\n\u001b[0;32m----> 1\u001b[0;31m \u001b[0mnp\u001b[0m\u001b[0;34m.\u001b[0m\u001b[0mreshape\u001b[0m\u001b[0;34m(\u001b[0m\u001b[0mX_train_df\u001b[0m\u001b[0;34m[\u001b[0m\u001b[0;34m'환불금액'\u001b[0m\u001b[0;34m]\u001b[0m\u001b[0;34m,\u001b[0m\u001b[0;34m(\u001b[0m\u001b[0mlen\u001b[0m\u001b[0;34m(\u001b[0m\u001b[0mX_train_df\u001b[0m\u001b[0;34m)\u001b[0m\u001b[0;34m,\u001b[0m\u001b[0;34m-\u001b[0m\u001b[0;36m1\u001b[0m\u001b[0;34m)\u001b[0m\u001b[0;34m)\u001b[0m\u001b[0;34m\u001b[0m\u001b[0;34m\u001b[0m\u001b[0m\n\u001b[0m",
      "\u001b[0;32m<__array_function__ internals>\u001b[0m in \u001b[0;36mreshape\u001b[0;34m(*args, **kwargs)\u001b[0m\n",
      "\u001b[0;32m~/anaconda3/lib/python3.8/site-packages/numpy/core/fromnumeric.py\u001b[0m in \u001b[0;36mreshape\u001b[0;34m(a, newshape, order)\u001b[0m\n\u001b[1;32m    297\u001b[0m            [5, 6]])\n\u001b[1;32m    298\u001b[0m     \"\"\"\n\u001b[0;32m--> 299\u001b[0;31m     \u001b[0;32mreturn\u001b[0m \u001b[0m_wrapfunc\u001b[0m\u001b[0;34m(\u001b[0m\u001b[0ma\u001b[0m\u001b[0;34m,\u001b[0m \u001b[0;34m'reshape'\u001b[0m\u001b[0;34m,\u001b[0m \u001b[0mnewshape\u001b[0m\u001b[0;34m,\u001b[0m \u001b[0morder\u001b[0m\u001b[0;34m=\u001b[0m\u001b[0morder\u001b[0m\u001b[0;34m)\u001b[0m\u001b[0;34m\u001b[0m\u001b[0;34m\u001b[0m\u001b[0m\n\u001b[0m\u001b[1;32m    300\u001b[0m \u001b[0;34m\u001b[0m\u001b[0m\n\u001b[1;32m    301\u001b[0m \u001b[0;34m\u001b[0m\u001b[0m\n",
      "\u001b[0;32m~/anaconda3/lib/python3.8/site-packages/numpy/core/fromnumeric.py\u001b[0m in \u001b[0;36m_wrapfunc\u001b[0;34m(obj, method, *args, **kwds)\u001b[0m\n\u001b[1;32m     53\u001b[0m     \u001b[0mbound\u001b[0m \u001b[0;34m=\u001b[0m \u001b[0mgetattr\u001b[0m\u001b[0;34m(\u001b[0m\u001b[0mobj\u001b[0m\u001b[0;34m,\u001b[0m \u001b[0mmethod\u001b[0m\u001b[0;34m,\u001b[0m \u001b[0;32mNone\u001b[0m\u001b[0;34m)\u001b[0m\u001b[0;34m\u001b[0m\u001b[0;34m\u001b[0m\u001b[0m\n\u001b[1;32m     54\u001b[0m     \u001b[0;32mif\u001b[0m \u001b[0mbound\u001b[0m \u001b[0;32mis\u001b[0m \u001b[0;32mNone\u001b[0m\u001b[0;34m:\u001b[0m\u001b[0;34m\u001b[0m\u001b[0;34m\u001b[0m\u001b[0m\n\u001b[0;32m---> 55\u001b[0;31m         \u001b[0;32mreturn\u001b[0m \u001b[0m_wrapit\u001b[0m\u001b[0;34m(\u001b[0m\u001b[0mobj\u001b[0m\u001b[0;34m,\u001b[0m \u001b[0mmethod\u001b[0m\u001b[0;34m,\u001b[0m \u001b[0;34m*\u001b[0m\u001b[0margs\u001b[0m\u001b[0;34m,\u001b[0m \u001b[0;34m**\u001b[0m\u001b[0mkwds\u001b[0m\u001b[0;34m)\u001b[0m\u001b[0;34m\u001b[0m\u001b[0;34m\u001b[0m\u001b[0m\n\u001b[0m\u001b[1;32m     56\u001b[0m \u001b[0;34m\u001b[0m\u001b[0m\n\u001b[1;32m     57\u001b[0m     \u001b[0;32mtry\u001b[0m\u001b[0;34m:\u001b[0m\u001b[0;34m\u001b[0m\u001b[0;34m\u001b[0m\u001b[0m\n",
      "\u001b[0;32m~/anaconda3/lib/python3.8/site-packages/numpy/core/fromnumeric.py\u001b[0m in \u001b[0;36m_wrapit\u001b[0;34m(obj, method, *args, **kwds)\u001b[0m\n\u001b[1;32m     46\u001b[0m         \u001b[0;32mif\u001b[0m \u001b[0;32mnot\u001b[0m \u001b[0misinstance\u001b[0m\u001b[0;34m(\u001b[0m\u001b[0mresult\u001b[0m\u001b[0;34m,\u001b[0m \u001b[0mmu\u001b[0m\u001b[0;34m.\u001b[0m\u001b[0mndarray\u001b[0m\u001b[0;34m)\u001b[0m\u001b[0;34m:\u001b[0m\u001b[0;34m\u001b[0m\u001b[0;34m\u001b[0m\u001b[0m\n\u001b[1;32m     47\u001b[0m             \u001b[0mresult\u001b[0m \u001b[0;34m=\u001b[0m \u001b[0masarray\u001b[0m\u001b[0;34m(\u001b[0m\u001b[0mresult\u001b[0m\u001b[0;34m)\u001b[0m\u001b[0;34m\u001b[0m\u001b[0;34m\u001b[0m\u001b[0m\n\u001b[0;32m---> 48\u001b[0;31m         \u001b[0mresult\u001b[0m \u001b[0;34m=\u001b[0m \u001b[0mwrap\u001b[0m\u001b[0;34m(\u001b[0m\u001b[0mresult\u001b[0m\u001b[0;34m)\u001b[0m\u001b[0;34m\u001b[0m\u001b[0;34m\u001b[0m\u001b[0m\n\u001b[0m\u001b[1;32m     49\u001b[0m     \u001b[0;32mreturn\u001b[0m \u001b[0mresult\u001b[0m\u001b[0;34m\u001b[0m\u001b[0;34m\u001b[0m\u001b[0m\n\u001b[1;32m     50\u001b[0m \u001b[0;34m\u001b[0m\u001b[0m\n",
      "\u001b[0;32m~/anaconda3/lib/python3.8/site-packages/pandas/core/generic.py\u001b[0m in \u001b[0;36m__array_wrap__\u001b[0;34m(self, result, context)\u001b[0m\n\u001b[1;32m   1926\u001b[0m             \u001b[0;32mreturn\u001b[0m \u001b[0mresult\u001b[0m\u001b[0;34m\u001b[0m\u001b[0;34m\u001b[0m\u001b[0m\n\u001b[1;32m   1927\u001b[0m         \u001b[0md\u001b[0m \u001b[0;34m=\u001b[0m \u001b[0mself\u001b[0m\u001b[0;34m.\u001b[0m\u001b[0m_construct_axes_dict\u001b[0m\u001b[0;34m(\u001b[0m\u001b[0mself\u001b[0m\u001b[0;34m.\u001b[0m\u001b[0m_AXIS_ORDERS\u001b[0m\u001b[0;34m,\u001b[0m \u001b[0mcopy\u001b[0m\u001b[0;34m=\u001b[0m\u001b[0;32mFalse\u001b[0m\u001b[0;34m)\u001b[0m\u001b[0;34m\u001b[0m\u001b[0;34m\u001b[0m\u001b[0m\n\u001b[0;32m-> 1928\u001b[0;31m         return self._constructor(result, **d).__finalize__(\n\u001b[0m\u001b[1;32m   1929\u001b[0m             \u001b[0mself\u001b[0m\u001b[0;34m,\u001b[0m \u001b[0mmethod\u001b[0m\u001b[0;34m=\u001b[0m\u001b[0;34m\"__array_wrap__\"\u001b[0m\u001b[0;34m\u001b[0m\u001b[0;34m\u001b[0m\u001b[0m\n\u001b[1;32m   1930\u001b[0m         )\n",
      "\u001b[0;32m~/anaconda3/lib/python3.8/site-packages/pandas/core/series.py\u001b[0m in \u001b[0;36m__init__\u001b[0;34m(self, data, index, dtype, name, copy, fastpath)\u001b[0m\n\u001b[1;32m    360\u001b[0m                     \u001b[0mdata\u001b[0m \u001b[0;34m=\u001b[0m \u001b[0mdata\u001b[0m\u001b[0;34m.\u001b[0m\u001b[0mcopy\u001b[0m\u001b[0;34m(\u001b[0m\u001b[0;34m)\u001b[0m\u001b[0;34m\u001b[0m\u001b[0;34m\u001b[0m\u001b[0m\n\u001b[1;32m    361\u001b[0m             \u001b[0;32melse\u001b[0m\u001b[0;34m:\u001b[0m\u001b[0;34m\u001b[0m\u001b[0;34m\u001b[0m\u001b[0m\n\u001b[0;32m--> 362\u001b[0;31m                 \u001b[0mdata\u001b[0m \u001b[0;34m=\u001b[0m \u001b[0msanitize_array\u001b[0m\u001b[0;34m(\u001b[0m\u001b[0mdata\u001b[0m\u001b[0;34m,\u001b[0m \u001b[0mindex\u001b[0m\u001b[0;34m,\u001b[0m \u001b[0mdtype\u001b[0m\u001b[0;34m,\u001b[0m \u001b[0mcopy\u001b[0m\u001b[0;34m,\u001b[0m \u001b[0mraise_cast_failure\u001b[0m\u001b[0;34m=\u001b[0m\u001b[0;32mTrue\u001b[0m\u001b[0;34m)\u001b[0m\u001b[0;34m\u001b[0m\u001b[0;34m\u001b[0m\u001b[0m\n\u001b[0m\u001b[1;32m    363\u001b[0m \u001b[0;34m\u001b[0m\u001b[0m\n\u001b[1;32m    364\u001b[0m                 \u001b[0mdata\u001b[0m \u001b[0;34m=\u001b[0m \u001b[0mSingleBlockManager\u001b[0m\u001b[0;34m.\u001b[0m\u001b[0mfrom_array\u001b[0m\u001b[0;34m(\u001b[0m\u001b[0mdata\u001b[0m\u001b[0;34m,\u001b[0m \u001b[0mindex\u001b[0m\u001b[0;34m)\u001b[0m\u001b[0;34m\u001b[0m\u001b[0;34m\u001b[0m\u001b[0m\n",
      "\u001b[0;32m~/anaconda3/lib/python3.8/site-packages/pandas/core/construction.py\u001b[0m in \u001b[0;36msanitize_array\u001b[0;34m(data, index, dtype, copy, raise_cast_failure)\u001b[0m\n\u001b[1;32m    527\u001b[0m     \u001b[0;32melif\u001b[0m \u001b[0msubarr\u001b[0m\u001b[0;34m.\u001b[0m\u001b[0mndim\u001b[0m \u001b[0;34m>\u001b[0m \u001b[0;36m1\u001b[0m\u001b[0;34m:\u001b[0m\u001b[0;34m\u001b[0m\u001b[0;34m\u001b[0m\u001b[0m\n\u001b[1;32m    528\u001b[0m         \u001b[0;32mif\u001b[0m \u001b[0misinstance\u001b[0m\u001b[0;34m(\u001b[0m\u001b[0mdata\u001b[0m\u001b[0;34m,\u001b[0m \u001b[0mnp\u001b[0m\u001b[0;34m.\u001b[0m\u001b[0mndarray\u001b[0m\u001b[0;34m)\u001b[0m\u001b[0;34m:\u001b[0m\u001b[0;34m\u001b[0m\u001b[0;34m\u001b[0m\u001b[0m\n\u001b[0;32m--> 529\u001b[0;31m             \u001b[0;32mraise\u001b[0m \u001b[0mValueError\u001b[0m\u001b[0;34m(\u001b[0m\u001b[0;34m\"Data must be 1-dimensional\"\u001b[0m\u001b[0;34m)\u001b[0m\u001b[0;34m\u001b[0m\u001b[0;34m\u001b[0m\u001b[0m\n\u001b[0m\u001b[1;32m    530\u001b[0m         \u001b[0;32melse\u001b[0m\u001b[0;34m:\u001b[0m\u001b[0;34m\u001b[0m\u001b[0;34m\u001b[0m\u001b[0m\n\u001b[1;32m    531\u001b[0m             \u001b[0msubarr\u001b[0m \u001b[0;34m=\u001b[0m \u001b[0mcom\u001b[0m\u001b[0;34m.\u001b[0m\u001b[0masarray_tuplesafe\u001b[0m\u001b[0;34m(\u001b[0m\u001b[0mdata\u001b[0m\u001b[0;34m,\u001b[0m \u001b[0mdtype\u001b[0m\u001b[0;34m=\u001b[0m\u001b[0mdtype\u001b[0m\u001b[0;34m)\u001b[0m\u001b[0;34m\u001b[0m\u001b[0;34m\u001b[0m\u001b[0m\n",
      "\u001b[0;31mValueError\u001b[0m: Data must be 1-dimensional"
     ]
    }
   ],
   "source": [
    "np.reshape(X_train_df['환불금액'])"
   ]
  },
  {
   "cell_type": "code",
   "execution_count": null,
   "metadata": {},
   "outputs": [],
   "source": []
  }
 ]
}