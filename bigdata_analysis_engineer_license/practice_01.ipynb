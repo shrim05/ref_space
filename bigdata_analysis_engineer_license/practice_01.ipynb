{
 "metadata": {
  "language_info": {
   "codemirror_mode": {
    "name": "ipython",
    "version": 3
   },
   "file_extension": ".py",
   "mimetype": "text/x-python",
   "name": "python",
   "nbconvert_exporter": "python",
   "pygments_lexer": "ipython3",
   "version": "3.8.3"
  },
  "orig_nbformat": 2,
  "kernelspec": {
   "name": "python383jvsc74a57bd04be50a6b9120fb188cfe30276bb17ea3acf7f9e5bafb4627c4dc2c4ae0cb6475",
   "display_name": "Python 3.8.3 64-bit ('base': conda)"
  }
 },
 "nbformat": 4,
 "nbformat_minor": 2,
 "cells": [
  {
   "cell_type": "code",
   "execution_count": 70,
   "metadata": {},
   "outputs": [],
   "source": [
    "import pandas as pd\n",
    "import numpy as np\n",
    "from sklearn.svm import SVC\n",
    "from sklearn.model_selection import train_test_split"
   ]
  },
  {
   "cell_type": "code",
   "execution_count": 52,
   "metadata": {},
   "outputs": [],
   "source": [
    "# moons dataset\n",
    "from sklearn.datasets import make_moons\n",
    "\n",
    "\n",
    "X, y = make_moons(n_samples=500, noise=0.15)\n",
    "X_train, X_test, y_train, y_test = train_test_split(X,y,test_size=0.2, random_state=42,)"
   ]
  },
  {
   "cell_type": "code",
   "execution_count": 300,
   "metadata": {},
   "outputs": [],
   "source": [
    "def display_score(y_test, y_pred):\n",
    "    f1 = f1_score(y_test, y_pred)\n",
    "    roc = roc_auc_score(y_test, y_pred)\n",
    "    acc = accuracy_score(y_test, y_pred)\n",
    "    print(f'f1: {f1}\\nroc: {roc}\\nacc: {acc}')"
   ]
  },
  {
   "cell_type": "code",
   "execution_count": 253,
   "metadata": {},
   "outputs": [],
   "source": [
    "example_path = './datasets/exam_sample'\n",
    "X_train = pd.read_csv(f'{example_path}/x_train.csv')\n",
    "y_train = pd.read_csv(f'{example_path}/y_train.csv')\n",
    "target_x_test = pd.read_csv(f'{example_path}/x_test.csv')"
   ]
  },
  {
   "cell_type": "code",
   "execution_count": 278,
   "metadata": {},
   "outputs": [
    {
     "output_type": "execute_result",
     "data": {
      "text/plain": [
       "      cust_id  gender\n",
       "0           0       0\n",
       "1           1       0\n",
       "2           2       1\n",
       "3           3       1\n",
       "4           4       0\n",
       "...       ...     ...\n",
       "3495     3495       1\n",
       "3496     3496       1\n",
       "3497     3497       0\n",
       "3498     3498       0\n",
       "3499     3499       0\n",
       "\n",
       "[3500 rows x 2 columns]"
      ],
      "text/html": "<div>\n<style scoped>\n    .dataframe tbody tr th:only-of-type {\n        vertical-align: middle;\n    }\n\n    .dataframe tbody tr th {\n        vertical-align: top;\n    }\n\n    .dataframe thead th {\n        text-align: right;\n    }\n</style>\n<table border=\"1\" class=\"dataframe\">\n  <thead>\n    <tr style=\"text-align: right;\">\n      <th></th>\n      <th>cust_id</th>\n      <th>gender</th>\n    </tr>\n  </thead>\n  <tbody>\n    <tr>\n      <th>0</th>\n      <td>0</td>\n      <td>0</td>\n    </tr>\n    <tr>\n      <th>1</th>\n      <td>1</td>\n      <td>0</td>\n    </tr>\n    <tr>\n      <th>2</th>\n      <td>2</td>\n      <td>1</td>\n    </tr>\n    <tr>\n      <th>3</th>\n      <td>3</td>\n      <td>1</td>\n    </tr>\n    <tr>\n      <th>4</th>\n      <td>4</td>\n      <td>0</td>\n    </tr>\n    <tr>\n      <th>...</th>\n      <td>...</td>\n      <td>...</td>\n    </tr>\n    <tr>\n      <th>3495</th>\n      <td>3495</td>\n      <td>1</td>\n    </tr>\n    <tr>\n      <th>3496</th>\n      <td>3496</td>\n      <td>1</td>\n    </tr>\n    <tr>\n      <th>3497</th>\n      <td>3497</td>\n      <td>0</td>\n    </tr>\n    <tr>\n      <th>3498</th>\n      <td>3498</td>\n      <td>0</td>\n    </tr>\n    <tr>\n      <th>3499</th>\n      <td>3499</td>\n      <td>0</td>\n    </tr>\n  </tbody>\n</table>\n<p>3500 rows × 2 columns</p>\n</div>"
     },
     "metadata": {},
     "execution_count": 278
    }
   ],
   "source": [
    "y_train"
   ]
  },
  {
   "cell_type": "code",
   "execution_count": 254,
   "metadata": {},
   "outputs": [
    {
     "output_type": "execute_result",
     "data": {
      "text/plain": [
       "           cust_id          총구매액         최대구매액          환불금액         내점일수  \\\n",
       "count  3500.000000  3.500000e+03  3.500000e+03  1.205000e+03  3500.000000   \n",
       "mean   1749.500000  9.191925e+07  1.966424e+07  2.407822e+07    19.253714   \n",
       "std    1010.507298  1.635065e+08  3.199235e+07  4.746453e+07    27.174942   \n",
       "min       0.000000 -5.242152e+07 -2.992000e+06  5.600000e+03     1.000000   \n",
       "25%     874.750000  4.747050e+06  2.875000e+06  2.259000e+06     2.000000   \n",
       "50%    1749.500000  2.822270e+07  9.837000e+06  7.392000e+06     8.000000   \n",
       "75%    2624.250000  1.065079e+08  2.296250e+07  2.412000e+07    25.000000   \n",
       "max    3499.000000  2.323180e+09  7.066290e+08  5.637530e+08   285.000000   \n",
       "\n",
       "           내점당구매건수       주말방문비율         구매주기  \n",
       "count  3500.000000  3500.000000  3500.000000  \n",
       "mean      2.834963     0.307246    20.958286  \n",
       "std       1.912368     0.289752    24.748682  \n",
       "min       1.000000     0.000000     0.000000  \n",
       "25%       1.666667     0.027291     4.000000  \n",
       "50%       2.333333     0.256410    13.000000  \n",
       "75%       3.375000     0.448980    28.000000  \n",
       "max      22.083333     1.000000   166.000000  "
      ],
      "text/html": "<div>\n<style scoped>\n    .dataframe tbody tr th:only-of-type {\n        vertical-align: middle;\n    }\n\n    .dataframe tbody tr th {\n        vertical-align: top;\n    }\n\n    .dataframe thead th {\n        text-align: right;\n    }\n</style>\n<table border=\"1\" class=\"dataframe\">\n  <thead>\n    <tr style=\"text-align: right;\">\n      <th></th>\n      <th>cust_id</th>\n      <th>총구매액</th>\n      <th>최대구매액</th>\n      <th>환불금액</th>\n      <th>내점일수</th>\n      <th>내점당구매건수</th>\n      <th>주말방문비율</th>\n      <th>구매주기</th>\n    </tr>\n  </thead>\n  <tbody>\n    <tr>\n      <th>count</th>\n      <td>3500.000000</td>\n      <td>3.500000e+03</td>\n      <td>3.500000e+03</td>\n      <td>1.205000e+03</td>\n      <td>3500.000000</td>\n      <td>3500.000000</td>\n      <td>3500.000000</td>\n      <td>3500.000000</td>\n    </tr>\n    <tr>\n      <th>mean</th>\n      <td>1749.500000</td>\n      <td>9.191925e+07</td>\n      <td>1.966424e+07</td>\n      <td>2.407822e+07</td>\n      <td>19.253714</td>\n      <td>2.834963</td>\n      <td>0.307246</td>\n      <td>20.958286</td>\n    </tr>\n    <tr>\n      <th>std</th>\n      <td>1010.507298</td>\n      <td>1.635065e+08</td>\n      <td>3.199235e+07</td>\n      <td>4.746453e+07</td>\n      <td>27.174942</td>\n      <td>1.912368</td>\n      <td>0.289752</td>\n      <td>24.748682</td>\n    </tr>\n    <tr>\n      <th>min</th>\n      <td>0.000000</td>\n      <td>-5.242152e+07</td>\n      <td>-2.992000e+06</td>\n      <td>5.600000e+03</td>\n      <td>1.000000</td>\n      <td>1.000000</td>\n      <td>0.000000</td>\n      <td>0.000000</td>\n    </tr>\n    <tr>\n      <th>25%</th>\n      <td>874.750000</td>\n      <td>4.747050e+06</td>\n      <td>2.875000e+06</td>\n      <td>2.259000e+06</td>\n      <td>2.000000</td>\n      <td>1.666667</td>\n      <td>0.027291</td>\n      <td>4.000000</td>\n    </tr>\n    <tr>\n      <th>50%</th>\n      <td>1749.500000</td>\n      <td>2.822270e+07</td>\n      <td>9.837000e+06</td>\n      <td>7.392000e+06</td>\n      <td>8.000000</td>\n      <td>2.333333</td>\n      <td>0.256410</td>\n      <td>13.000000</td>\n    </tr>\n    <tr>\n      <th>75%</th>\n      <td>2624.250000</td>\n      <td>1.065079e+08</td>\n      <td>2.296250e+07</td>\n      <td>2.412000e+07</td>\n      <td>25.000000</td>\n      <td>3.375000</td>\n      <td>0.448980</td>\n      <td>28.000000</td>\n    </tr>\n    <tr>\n      <th>max</th>\n      <td>3499.000000</td>\n      <td>2.323180e+09</td>\n      <td>7.066290e+08</td>\n      <td>5.637530e+08</td>\n      <td>285.000000</td>\n      <td>22.083333</td>\n      <td>1.000000</td>\n      <td>166.000000</td>\n    </tr>\n  </tbody>\n</table>\n</div>"
     },
     "metadata": {},
     "execution_count": 254
    }
   ],
   "source": [
    "X_train.describe()"
   ]
  },
  {
   "cell_type": "code",
   "execution_count": 255,
   "metadata": {},
   "outputs": [
    {
     "output_type": "stream",
     "name": "stdout",
     "text": [
      "<class 'pandas.core.frame.DataFrame'>\nRangeIndex: 3500 entries, 0 to 3499\nData columns (total 10 columns):\n #   Column   Non-Null Count  Dtype  \n---  ------   --------------  -----  \n 0   cust_id  3500 non-null   int64  \n 1   총구매액     3500 non-null   int64  \n 2   최대구매액    3500 non-null   int64  \n 3   환불금액     1205 non-null   float64\n 4   주구매상품    3500 non-null   object \n 5   주구매지점    3500 non-null   object \n 6   내점일수     3500 non-null   int64  \n 7   내점당구매건수  3500 non-null   float64\n 8   주말방문비율   3500 non-null   float64\n 9   구매주기     3500 non-null   int64  \ndtypes: float64(3), int64(5), object(2)\nmemory usage: 273.6+ KB\n"
     ]
    }
   ],
   "source": [
    "X_train.info()"
   ]
  },
  {
   "cell_type": "code",
   "execution_count": 287,
   "metadata": {},
   "outputs": [],
   "source": [
    "import copy\n",
    "train_df = copy.deepcopy(X_train)\n",
    "train_df['gender'] = y_train['gender']"
   ]
  },
  {
   "cell_type": "code",
   "execution_count": null,
   "metadata": {},
   "outputs": [],
   "source": []
  },
  {
   "cell_type": "code",
   "execution_count": 246,
   "metadata": {},
   "outputs": [],
   "source": [
    "from sklearn.model_selection import StratifiedShuffleSplit\n",
    "\n",
    "split = StratifiedShuffleSplit(n_splits=1, test_size=0.2, random_state=42)\n",
    "\n",
    "for train_index, test_index in split.split(train_df, train_df['gender']):\n",
    "    strat_train_set = train_df.loc[train_index]\n",
    "    strat_test_set = train_df.loc[test_index]\n"
   ]
  },
  {
   "cell_type": "code",
   "execution_count": 248,
   "metadata": {},
   "outputs": [],
   "source": [
    "train_df = strat_train_set.drop(['cust_id','gender'],axis=1)\n",
    "train_df_labels = strat_train_set['gender'].copy()\n",
    "test_df = strat_test_set.drop(['cust_id','gender'],axis=1)\n",
    "test_df_labels = strat_test_set['gender'].copy()"
   ]
  },
  {
   "cell_type": "code",
   "execution_count": 262,
   "metadata": {},
   "outputs": [],
   "source": [
    "train_df = X_train.drop(['cust_id','주구매지점'],axis=1)\n",
    "train_df_labels = y_train['gender'].copy()"
   ]
  },
  {
   "cell_type": "code",
   "execution_count": 279,
   "metadata": {},
   "outputs": [],
   "source": [
    "from sklearn.pipeline import Pipeline\n",
    "from sklearn.impute import SimpleImputer\n",
    "from sklearn.preprocessing import OneHotEncoder, StandardScaler\n",
    "from sklearn.compose import ColumnTransformer\n",
    "\n",
    "metric_columns = ['총구매액','최대구매액','환불금액','내점일수','내점당구매건수','주말방문비율','구매주기']\n",
    "# cat_columns = ['주구매상품','주구매지점']\n",
    "cat_columns = ['주구매상품']\n",
    "\n",
    "metric_pipeline = Pipeline([\n",
    "    ('fillna', SimpleImputer(strategy='constant',fill_value=0)),\n",
    "    ('std_scaler', StandardScaler()),\n",
    "])\n",
    "\n",
    "cat_pipeline = Pipeline([\n",
    "    ('onehot', OneHotEncoder())\n",
    "])\n",
    "\n",
    "full_pipeline = ColumnTransformer([\n",
    "    ('metric', metric_pipeline, metric_columns),\n",
    "    ('cat', cat_pipeline, cat_columns)\n",
    "])\n",
    "\n",
    "prepared_train_df = full_pipeline.fit_transform(train_df)\n",
    "# prepared_test_df = full_pipeline.fit_transform(test_df)"
   ]
  },
  {
   "cell_type": "code",
   "execution_count": 268,
   "metadata": {},
   "outputs": [
    {
     "output_type": "execute_result",
     "data": {
      "text/plain": [
       "RandomForestClassifier(max_leaf_nodes=16, n_estimators=500, n_jobs=-1)"
      ]
     },
     "metadata": {},
     "execution_count": 268
    }
   ],
   "source": [
    "from sklearn.ensemble import RandomForestClassifier\n",
    "\n",
    "rnd_clf = RandomForestClassifier(n_estimators=500, max_leaf_nodes=16, n_jobs=-1)\n",
    "rnd_clf.fit(prepared_train_df, train_df_labels)\n",
    "\n"
   ]
  },
  {
   "cell_type": "code",
   "execution_count": 305,
   "metadata": {},
   "outputs": [
    {
     "output_type": "execute_result",
     "data": {
      "text/plain": [
       "0.461498102509965"
      ]
     },
     "metadata": {},
     "execution_count": 305
    }
   ],
   "source": [
    "from sklearn.linear_model import LinearRegression\n",
    "from sklearn.metrics import mean_squared_error\n",
    "\n",
    "lin_reg = LinearRegression()\n",
    "lin_reg.fit(prepared_train_df, train_df_labels)\n",
    "\n",
    "lin_y_pred = lin_reg.predict(prepared_train_df)\n",
    "\n",
    "lin_mse = mean_squared_error(train_df_labels, lin_y_pred)\n",
    "lin_rmse = np.sqrt(lin_mse)\n",
    "lin_rmse\n",
    "\n",
    "\n",
    "\n",
    "# display_score(train_df_labels, lin_y_pred)"
   ]
  },
  {
   "cell_type": "code",
   "execution_count": 322,
   "metadata": {},
   "outputs": [
    {
     "output_type": "execute_result",
     "data": {
      "text/plain": [
       "VotingClassifier(estimators=[('lr', LogisticRegression()),\n",
       "                             ('rf', RandomForestClassifier()), ('svc', SVC())])"
      ]
     },
     "metadata": {},
     "execution_count": 322
    }
   ],
   "source": [
    "from sklearn.ensemble import RandomForestClassifier, VotingClassifier\n",
    "from sklearn.linear_model import LogisticRegression\n",
    "from  sklearn.svm import SVC\n",
    "\n",
    "log_clf = LogisticRegression()\n",
    "rnd_clf = RandomForestClassifier()\n",
    "svm_clf = SVC()\n",
    "\n",
    "voting_clf = VotingClassifier(\n",
    "    estimators=[\n",
    "        ('lr',log_clf),('rf',rnd_clf),('svc',svm_clf)\n",
    "    ],\n",
    "    voting='hard'\n",
    ")\n",
    "voting_clf.fit(prepared_train_df, train_df_labels)\n"
   ]
  },
  {
   "cell_type": "code",
   "execution_count": 324,
   "metadata": {},
   "outputs": [
    {
     "output_type": "stream",
     "name": "stdout",
     "text": [
      "LogisticRegression 0.6625714285714286\n",
      "RandomForestClassifier 0.9994285714285714\n",
      "SVC 0.6874285714285714\n",
      "VotingClassifier 0.7154285714285714\n"
     ]
    }
   ],
   "source": [
    "from sklearn.metrics import accuracy_score\n",
    "for clf in (log_clf, rnd_clf, svm_clf, voting_clf):\n",
    "    clf.fit(prepared_train_df, train_df_labels)\n",
    "    y_pred = clf.predict(prepared_train_df)\n",
    "    print(clf.__class__.__name__, accuracy_score(train_df_labels, y_pred))"
   ]
  },
  {
   "cell_type": "code",
   "execution_count": 269,
   "metadata": {},
   "outputs": [
    {
     "output_type": "stream",
     "name": "stdout",
     "text": [
      "               0\ncount  10.000000\nmean    0.585900\nstd     0.021998\nmin     0.547723\n25%     0.575682\n50%     0.586757\n75%     0.603557\nmax     0.614120\n"
     ]
    }
   ],
   "source": [
    "from sklearn.model_selection import cross_val_score\n",
    "scores = cross_val_score(rnd_clf, prepared_train_df, train_df_labels, scoring='neg_mean_squared_error', cv=10)\n",
    "tree_rmse_scores = np.sqrt(-scores)\n",
    "tree_rmse_scores\n",
    "a\n",
    "def display_scores(scores):\n",
    "    print(pd.DataFrame(scores).describe())\n",
    "display_scores(tree_rmse_scores)    "
   ]
  },
  {
   "cell_type": "code",
   "execution_count": 284,
   "metadata": {},
   "outputs": [
    {
     "output_type": "stream",
     "name": "stdout",
     "text": [
      "검증세트 결과:  0.648\nf1: 0.4453240969816922\nroc: 0.6125935234977788\nacc: 0.6797142857142857\n"
     ]
    }
   ],
   "source": [
    "from sklearn.ensemble import BaggingClassifier\n",
    "from sklearn.tree import DecisionTreeClassifier\n",
    "from sklearn.metrics import f1_score, roc_auc_score, accuracy_score\n",
    "\n",
    "bag_clf = BaggingClassifier(\n",
    "    DecisionTreeClassifier(), n_estimators=500,\n",
    "    max_samples=100, bootstrap=True, n_jobs=-1, oob_score=True\n",
    ")\n",
    "\n",
    "bag_clf.fit(prepared_train_df, train_df_labels)\n",
    "print('검증세트 결과: ',bag_clf.oob_score_)\n",
    "y_pred = bag_clf.predict(prepared_train_df)\n",
    "display_score(train_df_labels, y_pred)"
   ]
  },
  {
   "cell_type": "code",
   "execution_count": 270,
   "metadata": {},
   "outputs": [
    {
     "output_type": "stream",
     "name": "stdout",
     "text": [
      "f1: 0.43939393939393945\nroc: 0.6128468163042631\nacc: 0.6828571428571428\n"
     ]
    }
   ],
   "source": [
    "\n",
    "y_pred_rf = rnd_clf.predict(prepared_train_df)\n",
    "display_score(train_df_labels,y_pred_rf)"
   ]
  },
  {
   "cell_type": "code",
   "execution_count": null,
   "metadata": {},
   "outputs": [],
   "source": []
  },
  {
   "cell_type": "code",
   "execution_count": null,
   "metadata": {},
   "outputs": [],
   "source": []
  },
  {
   "cell_type": "code",
   "execution_count": null,
   "metadata": {},
   "outputs": [],
   "source": []
  },
  {
   "cell_type": "code",
   "execution_count": 75,
   "metadata": {},
   "outputs": [
    {
     "output_type": "stream",
     "name": "stdout",
     "text": [
      "검증세트 결과:  0.9625\nf1: 0.9320388349514563\nroc: 0.93\nacc: 0.93\n"
     ]
    }
   ],
   "source": [
    "from sklearn.ensemble import BaggingClassifier\n",
    "from sklearn.tree import DecisionTreeClassifier\n",
    "from sklearn.metrics import f1_score, roc_auc_score, accuracy_score\n",
    "\n",
    "bag_clf = BaggingClassifier(\n",
    "    DecisionTreeClassifier(), n_estimators=500,\n",
    "    max_samples=100, bootstrap=True, n_jobs=-1, oob_score=True\n",
    ")\n",
    "\n",
    "bag_clf.fit(X_train, y_train)\n",
    "print('검증세트 결과: ',bag_clf.oob_score_)\n",
    "y_pred = bag_clf.predict(X_test)\n",
    "display_score(y_test, y_pred)\n"
   ]
  },
  {
   "cell_type": "code",
   "execution_count": null,
   "metadata": {},
   "outputs": [],
   "source": []
  },
  {
   "cell_type": "code",
   "execution_count": null,
   "metadata": {},
   "outputs": [],
   "source": []
  },
  {
   "cell_type": "code",
   "execution_count": 76,
   "metadata": {},
   "outputs": [
    {
     "output_type": "stream",
     "name": "stdout",
     "text": [
      "f1: 0.970873786407767\nroc: 0.97\nacc: 0.97\n1 0.43556808985407874\n2 0.5644319101459212\n"
     ]
    }
   ],
   "source": [
    "from sklearn.ensemble import RandomForestClassifier\n",
    "\n",
    "rnd_clf = RandomForestClassifier(n_estimators=500, max_leaf_nodes=16, n_jobs=-1)\n",
    "rnd_clf.fit(X_train, y_train)\n",
    "\n",
    "y_pred_rf = rnd_clf.predict(X_test)\n",
    "display_score(y_test,y_pred_rf)\n",
    "\n",
    "for name, score in zip(['1','2'], rnd_clf.feature_importances_):\n",
    "    print(name, score)\n"
   ]
  },
  {
   "cell_type": "code",
   "execution_count": null,
   "metadata": {},
   "outputs": [],
   "source": []
  }
 ]
}