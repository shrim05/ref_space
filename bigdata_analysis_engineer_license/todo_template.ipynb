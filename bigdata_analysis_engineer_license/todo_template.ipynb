{
 "metadata": {
  "language_info": {
   "codemirror_mode": {
    "name": "ipython",
    "version": 3
   },
   "file_extension": ".py",
   "mimetype": "text/x-python",
   "name": "python",
   "nbconvert_exporter": "python",
   "pygments_lexer": "ipython3",
   "version": 3
  },
  "orig_nbformat": 4
 },
 "nbformat": 4,
 "nbformat_minor": 2,
 "cells": [
  {
   "cell_type": "code",
   "execution_count": null,
   "metadata": {},
   "outputs": [],
   "source": [
    "import pandas as pd\n",
    "import numpy as np\n",
    "import inspect\n",
    "import sklearn\n",
    "\n",
    "from sklearn import compose, ensemble ,linear_model ,metrics ,model_selection , pipeline, preprocessing ,utils \n",
    "\n",
    "for x in dir(sklearn.metrics):\n",
    "\tprint(x)\n",
    "\n",
    "from sklearn.compose import ColumnTransformer\n",
    "from sklearn.ensemble import BaggingClassifier, BaggingRegressor, RandomForestClassifier, RandomForestRegressor, VotingClassifier, VotingRegressor\n",
    "from sklearn.model_selection import StratifiedShuffleSplit, cross_val_predict, cross_val_score, train_test_split\n",
    "\n",
    "\n",
    "X_train_df = pd.read_csv('data/X_train.csv')\n",
    "X_test_df = pd.read_csv('data/X_test.csv')\n",
    "y_train_df = pd.read_csv('data/y_train.csv')\n",
    "\n",
    "# print(X_train_df.head(), X_train_df.shape, X_train_df.describe(),  )\n",
    "print(X_train_df.info())\n",
    "\n",
    "# null\n",
    "\n",
    "# scale \n",
    "\n",
    "\n",
    "# cat\n",
    "\n",
    "# pipeline\n",
    "\n",
    "# model (이왕이면 앙상블 모델로)\n",
    "\n",
    "# fit\n",
    "\n",
    "# cross_val_score / grid cv (최적 파리미터 자동 탐색)\n",
    "\n",
    "# predict\n",
    "\n",
    "# evaluate (ROC-AUC)\n",
    "\n",
    "\n",
    "\n"
   ]
  }
 ]
}